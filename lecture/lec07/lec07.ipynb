{
 "cells": [
  {
   "cell_type": "markdown",
   "metadata": {},
   "source": [
    "# Lecture 7 – Data 100, Summer 2020\n",
    "\n",
    "Notebook by Joseph Gonzalez (Spring 2020)"
   ]
  },
  {
   "cell_type": "code",
   "execution_count": 1,
   "metadata": {
    "ExecuteTime": {
     "end_time": "2018-02-02T15:15:15.363920Z",
     "start_time": "2018-02-02T15:15:14.337886Z"
    }
   },
   "outputs": [],
   "source": [
    "import numpy as np\n",
    "import pandas as pd"
   ]
  },
  {
   "cell_type": "code",
   "execution_count": 2,
   "metadata": {},
   "outputs": [],
   "source": [
    "import matplotlib.pyplot as plt\n",
    "import seaborn as sns"
   ]
  },
  {
   "cell_type": "code",
   "execution_count": 3,
   "metadata": {},
   "outputs": [
    {
     "data": {
      "text/html": [
       "        <script type=\"text/javascript\">\n",
       "        window.PlotlyConfig = {MathJaxConfig: 'local'};\n",
       "        if (window.MathJax) {MathJax.Hub.Config({SVG: {font: \"STIX-Web\"}});}\n",
       "        if (typeof require !== 'undefined') {\n",
       "        require.undef(\"plotly\");\n",
       "        requirejs.config({\n",
       "            paths: {\n",
       "                'plotly': ['https://cdn.plot.ly/plotly-latest.min']\n",
       "            }\n",
       "        });\n",
       "        require(['plotly'], function(Plotly) {\n",
       "            window._Plotly = Plotly;\n",
       "        });\n",
       "        }\n",
       "        </script>\n",
       "        "
      ]
     },
     "metadata": {},
     "output_type": "display_data"
    },
    {
     "data": {
      "text/html": [
       "        <script type=\"text/javascript\">\n",
       "        window.PlotlyConfig = {MathJaxConfig: 'local'};\n",
       "        if (window.MathJax) {MathJax.Hub.Config({SVG: {font: \"STIX-Web\"}});}\n",
       "        if (typeof require !== 'undefined') {\n",
       "        require.undef(\"plotly\");\n",
       "        requirejs.config({\n",
       "            paths: {\n",
       "                'plotly': ['https://cdn.plot.ly/plotly-latest.min']\n",
       "            }\n",
       "        });\n",
       "        require(['plotly'], function(Plotly) {\n",
       "            window._Plotly = Plotly;\n",
       "        });\n",
       "        }\n",
       "        </script>\n",
       "        "
      ]
     },
     "metadata": {},
     "output_type": "display_data"
    }
   ],
   "source": [
    "import plotly.offline as py\n",
    "import plotly.express as px\n",
    "\n",
    "import plotly.graph_objs as go\n",
    "import plotly.figure_factory as ff\n",
    "import cufflinks as cf\n",
    "\n",
    "cf.set_config_file(offline=True, world_readable=False)"
   ]
  },
  {
   "cell_type": "markdown",
   "metadata": {},
   "source": [
    "# Introduction\n",
    "\n",
    "In this lecture we examine the process of data cleaning and Exploratory Data Analysis (EDA).  Often you will acquire or even be given a collection of data in order to conduct some analysis or answer some questions. The first step in using that data is to ensure that it is in the correct form (cleaned) and that you understand its properties and limitations (EDA).  Often as you explore data through EDA you will identify additional transformations that may be required before the data is ready for analysis.\n",
    "\n",
    "In this notebook we obtain crime data from the city of Berkeley's public records.  Ultimately, our goal might be to understand policing patterns but before we get there we must first clean and understand the data. "
   ]
  },
  {
   "cell_type": "markdown",
   "metadata": {},
   "source": [
    "# Getting the Data\n",
    "\n",
    "To begin this analysis we want to get data about crimes in Berkeley.  Remarkably, the city of Berkeley maintains an [Open Data Portal](https://data.cityofberkeley.info/) for citizens to access data about the city.  We will be examining the:\n",
    "\n",
    "1. [Call Data](https://data.cityofberkeley.info/Public-Safety/Berkeley-PD-Calls-for-Service/k2nh-s5h5)\n",
    "1. [Stop Data](https://data.cityofberkeley.info/Public-Safety/Berkeley-PD-Stop-Data/6e9j-pj9p)\n",
    "\n",
    "Fortunately, this data is also relatively well document with detailed descriptions of what it contains.  Here are summaries of the fields in the data:\n",
    "\n",
    "### Calls Data\n",
    "<img src=\"calls_desc.png\" width=800px />\n",
    "\n",
    "### Stop Data\n",
    "<img src=\"stops_desc.png\" width=800px />\n",
    "\n"
   ]
  },
  {
   "cell_type": "markdown",
   "metadata": {},
   "source": [
    "\n",
    "## Most data has bad documentation:\n",
    "\n",
    "Unfortunately, data is seldom well documented and when it is you may not be able to trust the documentation. It is therefore critical that when we download the data we investigate the fields and verify that it reflects the assumptions made in the documentation.\n",
    "\n"
   ]
  },
  {
   "cell_type": "markdown",
   "metadata": {},
   "source": [
    "## Reproducible Data Science\n",
    "\n",
    "In the interest of **reproducible data science** we will download the data programatically.  We have defined some helper functions in the [ds100_utils.py](ds100_utils.py) file.  I can then reuse these helper functions in many different notebooks."
   ]
  },
  {
   "cell_type": "code",
   "execution_count": 4,
   "metadata": {
    "ExecuteTime": {
     "end_time": "2018-02-02T15:15:15.368501Z",
     "start_time": "2018-02-02T15:15:15.365808Z"
    }
   },
   "outputs": [],
   "source": [
    "from ds100_utils import fetch_and_cache"
   ]
  },
  {
   "cell_type": "markdown",
   "metadata": {},
   "source": [
    "Occasionally, you will want to modify code that you have imported.  To reimport those modifications you can either use the python importlib library:\n",
    "\n",
    "```python\n",
    "from importlib import reload\n",
    "reload(utils)\n",
    "```\n",
    "\n",
    "or use iPython magic which will intelligently import code when files change:\n",
    "\n",
    "```python\n",
    "%load_ext autoreload\n",
    "%autoreload 2\n",
    "```"
   ]
  },
  {
   "cell_type": "markdown",
   "metadata": {},
   "source": [
    "## Downloading the Data\n",
    "\n",
    "Notice that because I record how I got the data in the notebook, others can reproduce this experiment.  However, it is worth noting that **the data can change**.  We will want to pay attention to file timestamps."
   ]
  },
  {
   "cell_type": "code",
   "execution_count": 5,
   "metadata": {
    "ExecuteTime": {
     "end_time": "2018-02-02T15:15:16.391752Z",
     "start_time": "2018-02-02T15:15:15.413412Z"
    }
   },
   "outputs": [
    {
     "name": "stdout",
     "output_type": "stream",
     "text": [
      "Downloading... Done!\n"
     ]
    }
   ],
   "source": [
    "calls_file = fetch_and_cache(\"https://data.cityofberkeley.info/api/views/k2nh-s5h5/rows.csv?accessType=DOWNLOAD\",\n",
    "                \"calls_for_service.csv\", force=False)"
   ]
  },
  {
   "cell_type": "code",
   "execution_count": 6,
   "metadata": {
    "ExecuteTime": {
     "end_time": "2018-02-02T15:15:18.781360Z",
     "start_time": "2018-02-02T15:15:16.393772Z"
    }
   },
   "outputs": [
    {
     "name": "stdout",
     "output_type": "stream",
     "text": [
      "Downloading... Done!\n"
     ]
    }
   ],
   "source": [
    "stops_file = fetch_and_cache(\"https://data.cityofberkeley.info/api/views/6e9j-pj9p/rows.json?accessType=DOWNLOAD\",\n",
    "                \"stops.json\", force=False)"
   ]
  },
  {
   "cell_type": "markdown",
   "metadata": {},
   "source": [
    "# Exploring the data\n",
    "\n",
    "Now that we have obtained the data we want to understand its:\n",
    "\n",
    "* **Structure** -- the \"shape\" of a data file\n",
    "* **Granularity** -- how fine/coarse is each datum\n",
    "* **Scope** -- how (in)complete is the data\n",
    "* **Temporality** -- how is the data situated in time\n",
    "* **Faithfulness** -- how well does the data capture \"reality\"\n",
    "\n"
   ]
  },
  {
   "cell_type": "markdown",
   "metadata": {},
   "source": [
    "## Structure\n",
    "\n",
    "Before we even begin to load the data it often helps to understand a little about the high-level structure:\n",
    "\n",
    "1. How much data do I have?\n",
    "1. How is it formatted?"
   ]
  },
  {
   "cell_type": "markdown",
   "metadata": {},
   "source": [
    "### How big is the data?\n",
    "\n",
    "I often like to start my analysis by getting a rough estimate of the size of the data.  This will help inform the tools I use and how I view the data.  If it is relatively small I might use a text editor or a spreadsheet to look at the data.  If it is larger, I might jump to more programmatic exploration or even used distributed computing tools.\n",
    "\n",
    "However here we will use python tools to probe the file."
   ]
  },
  {
   "cell_type": "code",
   "execution_count": 7,
   "metadata": {
    "ExecuteTime": {
     "end_time": "2018-02-02T15:15:18.961511Z",
     "start_time": "2018-02-02T15:15:18.955308Z"
    }
   },
   "outputs": [
    {
     "name": "stdout",
     "output_type": "stream",
     "text": [
      "data/calls_for_service.csv is 0.941358 MB\n",
      "data/stops.json is 0.000122 MB\n"
     ]
    }
   ],
   "source": [
    "import os\n",
    "print(calls_file, \"is\",  os.path.getsize(calls_file) / 1e6, \"MB\")\n",
    "print(stops_file, \"is\", os.path.getsize(stops_file) / 1e6, \"MB\")"
   ]
  },
  {
   "cell_type": "markdown",
   "metadata": {},
   "source": [
    "All the files are relatively small and we could comfortable examine them in a text editors.  (Personally, I like *sublime* or *emacs* but others may have a different *vi*ew.). \n",
    "\n",
    "In listing the files I noticed that the names suggest that they are all text file formats:\n",
    "* **CSV**: Comma separated values is a very standard table format.\n",
    "* **JSON**: JavaScript Object Notation is a very standard semi-structured file format used to store nested data.\n",
    "\n",
    "We will dive into the formats in a moment.  However because these are text data I might also want to investigate the number of lines which often correspond to records."
   ]
  },
  {
   "cell_type": "code",
   "execution_count": 8,
   "metadata": {
    "ExecuteTime": {
     "end_time": "2018-02-02T15:15:18.993584Z",
     "start_time": "2018-02-02T15:15:18.989848Z"
    }
   },
   "outputs": [
    {
     "name": "stdout",
     "output_type": "stream",
     "text": [
      "data/calls_for_service.csv is 15452 lines.\n"
     ]
    }
   ],
   "source": [
    "with open(calls_file, \"r\") as f:\n",
    "    print(calls_file, \"is\", sum(1 for l in f), \"lines.\")"
   ]
  },
  {
   "cell_type": "code",
   "execution_count": 9,
   "metadata": {
    "ExecuteTime": {
     "end_time": "2018-02-02T15:15:18.993584Z",
     "start_time": "2018-02-02T15:15:18.989848Z"
    }
   },
   "outputs": [
    {
     "name": "stdout",
     "output_type": "stream",
     "text": [
      "data/stops.json is 5 lines.\n"
     ]
    }
   ],
   "source": [
    "with open(stops_file, \"r\") as f:\n",
    "    print(stops_file, \"is\", sum(1 for l in f), \"lines.\")"
   ]
  },
  {
   "cell_type": "markdown",
   "metadata": {},
   "source": [
    "\n",
    "### What is the file format?  (Can we trust extensions?)\n",
    "\n",
    "We already noticed that the files end in `csv` and `json` which suggests that these are comma separated and javascript object files respectively.  However, we can't always rely on the naming as this is only a convention.  For example, here we picked the name of the file when downloading based on some hints in the URL.\n",
    "\n",
    "\n",
    "\n",
    "**Often files will have incorrect extensions or no extension at all.**\n",
    "\n",
    "Let's assume that these are text files (and do not contain binary encoded data) so we can print a \"few lines\" to get a better understanding of the file."
   ]
  },
  {
   "cell_type": "code",
   "execution_count": 10,
   "metadata": {},
   "outputs": [
    {
     "name": "stdout",
     "output_type": "stream",
     "text": [
      "data/calls_for_service.csv ======================\n",
      "0 \t 'CASENO,OFFENSE,EVENTDT,EVENTTM,CVLEGEND,CVDOW,InDbDate,Block_Location,BLKADDR,City,State\\n'\n",
      "1 \t '19059951,DISTURBANCE,10/22/2019 12:00:00 AM,12:06,DISORDERLY CONDUCT,2,06/25/2020 07:00:15 AM,\"2950 DURANT ST\\n'\n",
      "2 \t 'Berkeley, CA\",2950 DURANT ST,Berkeley,CA\\n'\n",
      "3 \t '19039736,DISTURBANCE,07/21/2019 12:00:00 AM,04:30,DISORDERLY CONDUCT,0,06/25/2020 07:00:11 AM,\"300 CANYON RD\\n'\n",
      "4 \t 'Berkeley, CA\",300 CANYON RD,Berkeley,CA\\n'\n",
      "5 \t '19066056,BURGLARY AUTO,11/19/2019 12:00:00 AM,22:00,BURGLARY - VEHICLE,2,06/25/2020 07:00:16 AM,\"4TH ST\\n'\n",
      "6 \t 'Berkeley, CA\",4TH ST,Berkeley,CA\\n'\n",
      "7 \t '19051156,VEHICLE STOLEN,09/10/2019 12:00:00 AM,19:00,MOTOR VEHICLE THEFT,2,06/25/2020 07:00:13 AM,\"100 MENLO PL\\n'\n",
      "8 \t 'Berkeley, CA\",100 MENLO PL,Berkeley,CA\\n'\n",
      "9 \t '19068960,BURGLARY AUTO,12/05/2019 12:00:00 AM,15:45,BURGLARY - VEHICLE,4,06/25/2020 07:00:17 AM,\"800 HILLCREST RD\\n'\n",
      "10 \t 'Berkeley, CA\",800 HILLCREST RD,Berkeley,CA\\n'\n",
      "11 \t '19092685,BURGLARY AUTO,12/02/2019 12:00:00 AM,09:10,BURGLARY - VEHICLE,1,06/25/2020 07:00:17 AM,\"MARINA BLVD\\n'\n",
      "12 \t 'Berkeley, CA\",MARINA BLVD,Berkeley,CA\\n'\n",
      "13 \t '19043231,SEXUAL ASSAULT FEL.,08/04/2019 12:00:00 AM,00:00,SEX CRIME,0,06/25/2020 07:00:12 AM,\"<UNKNOWN>\\n'\n",
      "14 \t 'Berkeley, CA\",<UNKNOWN>,Berkeley,CA\\n'\n",
      "15 \t '19092551,THEFT MISD. (UNDER $950),11/17/2019 12:00:00 AM,12:00,LARCENY,0,06/25/2020 07:00:16 AM,\"ASHBY AVE\\n'\n",
      "16 \t 'Berkeley, CA\",ASHBY AVE,Berkeley,CA\\n'\n",
      "17 \t '19053206,THEFT FROM AUTO,09/15/2019 12:00:00 AM,21:00,LARCENY - FROM VEHICLE,0,06/25/2020 07:00:13 AM,\"500 ETON CT\\n'\n",
      "18 \t 'Berkeley, CA\",500 ETON CT,Berkeley,CA\\n'\n",
      "19 \t '19056444,NARCOTICS,10/05/2019 12:00:00 AM,15:07,DRUG VIOLATION,6,06/25/2020 07:00:14 AM,\"1605 62ND TER\\n'\n"
     ]
    }
   ],
   "source": [
    "print(calls_file, \"======================\")\n",
    "with open(calls_file, \"r\") as f:\n",
    "    for i in range(20):\n",
    "        print(i, \"\\t\", repr(f.readline()))"
   ]
  },
  {
   "cell_type": "code",
   "execution_count": 11,
   "metadata": {},
   "outputs": [
    {
     "name": "stdout",
     "output_type": "stream",
     "text": [
      "data/stops.json ======================\n",
      "0 \t '{\\n'\n",
      "1 \t '  \"code\" : \"authentication_required\",\\n'\n",
      "2 \t '  \"error\" : true,\\n'\n",
      "3 \t '  \"message\" : \"You must be logged in to access this resource\"\\n'\n",
      "4 \t '}\\n'\n",
      "5 \t ''\n",
      "6 \t ''\n",
      "7 \t ''\n",
      "8 \t ''\n",
      "9 \t ''\n",
      "10 \t ''\n",
      "11 \t ''\n",
      "12 \t ''\n",
      "13 \t ''\n",
      "14 \t ''\n",
      "15 \t ''\n",
      "16 \t ''\n",
      "17 \t ''\n",
      "18 \t ''\n",
      "19 \t ''\n"
     ]
    }
   ],
   "source": [
    "print(stops_file, \"======================\")\n",
    "with open(stops_file, \"r\") as f:\n",
    "    for i in range(20):\n",
    "        print(i, \"\\t\", repr(f.readline()))"
   ]
  },
  {
   "cell_type": "markdown",
   "metadata": {},
   "source": [
    "Notice that I used the `repr` function to return the raw string with special characters.  This is helpful in deducing the file format."
   ]
  },
  {
   "cell_type": "markdown",
   "metadata": {},
   "source": [
    "### What are some observations about `Calls` data?\n",
    "\n",
    "1. It appears to be in comma separated value (CSV) format.\n",
    "1. First line contains the column headings.\n",
    "1. There are lots of **new-line** `\\n` characters:\n",
    "    * at the ends of lines (delimiting records?)\n",
    "    * *within records* as part of addresses.\n",
    "1. There are **\"quoted\"** strings in the `Block_Location` column:\n",
    "```\n",
    "\"2500 LE CONTE AVE\n",
    "Berkeley, CA\n",
    "(37.876965, -122.260544)\"\n",
    "```\n",
    "these are going to be difficult.  What are the implications on our earlier line count calculations?"
   ]
  },
  {
   "cell_type": "markdown",
   "metadata": {},
   "source": [
    "### What are some observations about `Stops` data?\n",
    "\n",
    "This appears to be a fairly standard JSON file.  We notice that the file appears to contain a description of itself in a field called \"meta\" (which is presumably short for meta-data).  We will come back to this meta data in a moment but first let's quickly discuss the JSON file format.\n"
   ]
  },
  {
   "cell_type": "markdown",
   "metadata": {},
   "source": [
    "\n",
    "### A quick note on JSON\n",
    "\n",
    "[JSON (JavaScript Object Notation)](http://www.json.org) is a common format for exchanging complex structured and semi-structured data. \n",
    "\n",
    "```javascript\n",
    "{\n",
    "    \"field1\": \"value1\",\n",
    "    \"field2\": [\"list\", \"of\", \"values\"],\n",
    "    \"myfield3\": {\"is_recursive\": true, \"a null value\": null}\n",
    "}\n",
    "```\n",
    "\n",
    "A few key points:\n",
    "* JSON is a recursive format in that JSON fields can also contain JSON objects\n",
    "* JSON closely matches Python Dictionaries:\n",
    "```python\n",
    "d = {\n",
    "    \"field1\": \"value1\",\n",
    "    \"field2\": [\"list\", \"of\", \"values\"],\n",
    "    \"myfield3\": {\"is_recursive\": True, \"a null value\": None}\n",
    "}\n",
    "print(d['myfield3'])\n",
    "```\n",
    "* Very common in web technologies (... JavaScript)\n",
    "* Many languages have tools for loading and saving JSON objects\n",
    "\n"
   ]
  },
  {
   "cell_type": "markdown",
   "metadata": {},
   "source": [
    "\n",
    "## Loading the Data\n",
    "\n",
    "We will now attempt to load the data into python.  We will be using the Pandas dataframe library for basic tabular data analysis.  Fortunately, the Pandas library has some relatively sophisticated functions for loading data. "
   ]
  },
  {
   "cell_type": "markdown",
   "metadata": {},
   "source": [
    "\n",
    "### Loading the Calls Data\n",
    "\n",
    "Because the file appears to be a relatively well formatted CSV we will attempt to load it directly and allow the Pandas Library to deduce column headers.  (Always check that first row and column look correct after loading.)"
   ]
  },
  {
   "cell_type": "code",
   "execution_count": 12,
   "metadata": {
    "ExecuteTime": {
     "end_time": "2018-02-02T15:15:19.115040Z",
     "start_time": "2018-02-02T15:15:19.070620Z"
    }
   },
   "outputs": [
    {
     "data": {
      "text/html": [
       "<div>\n",
       "<style scoped>\n",
       "    .dataframe tbody tr th:only-of-type {\n",
       "        vertical-align: middle;\n",
       "    }\n",
       "\n",
       "    .dataframe tbody tr th {\n",
       "        vertical-align: top;\n",
       "    }\n",
       "\n",
       "    .dataframe thead th {\n",
       "        text-align: right;\n",
       "    }\n",
       "</style>\n",
       "<table border=\"1\" class=\"dataframe\">\n",
       "  <thead>\n",
       "    <tr style=\"text-align: right;\">\n",
       "      <th></th>\n",
       "      <th>CASENO</th>\n",
       "      <th>OFFENSE</th>\n",
       "      <th>EVENTDT</th>\n",
       "      <th>EVENTTM</th>\n",
       "      <th>CVLEGEND</th>\n",
       "      <th>CVDOW</th>\n",
       "      <th>InDbDate</th>\n",
       "      <th>Block_Location</th>\n",
       "      <th>BLKADDR</th>\n",
       "      <th>City</th>\n",
       "      <th>State</th>\n",
       "    </tr>\n",
       "  </thead>\n",
       "  <tbody>\n",
       "    <tr>\n",
       "      <td>0</td>\n",
       "      <td>19059951</td>\n",
       "      <td>DISTURBANCE</td>\n",
       "      <td>10/22/2019 12:00:00 AM</td>\n",
       "      <td>12:06</td>\n",
       "      <td>DISORDERLY CONDUCT</td>\n",
       "      <td>2</td>\n",
       "      <td>06/25/2020 07:00:15 AM</td>\n",
       "      <td>2950 DURANT ST\\nBerkeley, CA</td>\n",
       "      <td>2950 DURANT ST</td>\n",
       "      <td>Berkeley</td>\n",
       "      <td>CA</td>\n",
       "    </tr>\n",
       "    <tr>\n",
       "      <td>1</td>\n",
       "      <td>19039736</td>\n",
       "      <td>DISTURBANCE</td>\n",
       "      <td>07/21/2019 12:00:00 AM</td>\n",
       "      <td>04:30</td>\n",
       "      <td>DISORDERLY CONDUCT</td>\n",
       "      <td>0</td>\n",
       "      <td>06/25/2020 07:00:11 AM</td>\n",
       "      <td>300 CANYON RD\\nBerkeley, CA</td>\n",
       "      <td>300 CANYON RD</td>\n",
       "      <td>Berkeley</td>\n",
       "      <td>CA</td>\n",
       "    </tr>\n",
       "    <tr>\n",
       "      <td>2</td>\n",
       "      <td>19066056</td>\n",
       "      <td>BURGLARY AUTO</td>\n",
       "      <td>11/19/2019 12:00:00 AM</td>\n",
       "      <td>22:00</td>\n",
       "      <td>BURGLARY - VEHICLE</td>\n",
       "      <td>2</td>\n",
       "      <td>06/25/2020 07:00:16 AM</td>\n",
       "      <td>4TH ST\\nBerkeley, CA</td>\n",
       "      <td>4TH ST</td>\n",
       "      <td>Berkeley</td>\n",
       "      <td>CA</td>\n",
       "    </tr>\n",
       "    <tr>\n",
       "      <td>3</td>\n",
       "      <td>19051156</td>\n",
       "      <td>VEHICLE STOLEN</td>\n",
       "      <td>09/10/2019 12:00:00 AM</td>\n",
       "      <td>19:00</td>\n",
       "      <td>MOTOR VEHICLE THEFT</td>\n",
       "      <td>2</td>\n",
       "      <td>06/25/2020 07:00:13 AM</td>\n",
       "      <td>100 MENLO PL\\nBerkeley, CA</td>\n",
       "      <td>100 MENLO PL</td>\n",
       "      <td>Berkeley</td>\n",
       "      <td>CA</td>\n",
       "    </tr>\n",
       "    <tr>\n",
       "      <td>4</td>\n",
       "      <td>19068960</td>\n",
       "      <td>BURGLARY AUTO</td>\n",
       "      <td>12/05/2019 12:00:00 AM</td>\n",
       "      <td>15:45</td>\n",
       "      <td>BURGLARY - VEHICLE</td>\n",
       "      <td>4</td>\n",
       "      <td>06/25/2020 07:00:17 AM</td>\n",
       "      <td>800 HILLCREST RD\\nBerkeley, CA</td>\n",
       "      <td>800 HILLCREST RD</td>\n",
       "      <td>Berkeley</td>\n",
       "      <td>CA</td>\n",
       "    </tr>\n",
       "  </tbody>\n",
       "</table>\n",
       "</div>"
      ],
      "text/plain": [
       "     CASENO         OFFENSE                 EVENTDT EVENTTM  \\\n",
       "0  19059951     DISTURBANCE  10/22/2019 12:00:00 AM   12:06   \n",
       "1  19039736     DISTURBANCE  07/21/2019 12:00:00 AM   04:30   \n",
       "2  19066056   BURGLARY AUTO  11/19/2019 12:00:00 AM   22:00   \n",
       "3  19051156  VEHICLE STOLEN  09/10/2019 12:00:00 AM   19:00   \n",
       "4  19068960   BURGLARY AUTO  12/05/2019 12:00:00 AM   15:45   \n",
       "\n",
       "              CVLEGEND  CVDOW                InDbDate  \\\n",
       "0   DISORDERLY CONDUCT      2  06/25/2020 07:00:15 AM   \n",
       "1   DISORDERLY CONDUCT      0  06/25/2020 07:00:11 AM   \n",
       "2   BURGLARY - VEHICLE      2  06/25/2020 07:00:16 AM   \n",
       "3  MOTOR VEHICLE THEFT      2  06/25/2020 07:00:13 AM   \n",
       "4   BURGLARY - VEHICLE      4  06/25/2020 07:00:17 AM   \n",
       "\n",
       "                   Block_Location           BLKADDR      City State  \n",
       "0    2950 DURANT ST\\nBerkeley, CA    2950 DURANT ST  Berkeley    CA  \n",
       "1     300 CANYON RD\\nBerkeley, CA     300 CANYON RD  Berkeley    CA  \n",
       "2            4TH ST\\nBerkeley, CA            4TH ST  Berkeley    CA  \n",
       "3      100 MENLO PL\\nBerkeley, CA      100 MENLO PL  Berkeley    CA  \n",
       "4  800 HILLCREST RD\\nBerkeley, CA  800 HILLCREST RD  Berkeley    CA  "
      ]
     },
     "execution_count": 12,
     "metadata": {},
     "output_type": "execute_result"
    }
   ],
   "source": [
    "calls = pd.read_csv(calls_file, warn_bad_lines=True)\n",
    "calls.head()"
   ]
  },
  {
   "cell_type": "markdown",
   "metadata": {},
   "source": [
    "How many records did we get?"
   ]
  },
  {
   "cell_type": "code",
   "execution_count": 13,
   "metadata": {
    "ExecuteTime": {
     "end_time": "2018-02-02T15:15:19.122345Z",
     "start_time": "2018-02-02T15:15:19.118071Z"
    }
   },
   "outputs": [
    {
     "data": {
      "text/plain": [
       "5227"
      ]
     },
     "execution_count": 13,
     "metadata": {},
     "output_type": "execute_result"
    }
   ],
   "source": [
    "calls.shape[0]"
   ]
  },
  {
   "cell_type": "markdown",
   "metadata": {
    "solution2": "hidden",
    "solution2_first": true
   },
   "source": [
    "### Preliminary observations on the data?"
   ]
  },
  {
   "cell_type": "markdown",
   "metadata": {
    "solution2": "hidden"
   },
   "source": [
    "1. `EVENTDT` -- Contain the incorrect time stamp\n",
    "1. `EVENTTM` -- Contains the time in 24 hour format (What timezone?)\n",
    "1. `CVDOW` -- Appears to be some encoding of the day of the week (see data documentation).\n",
    "1. `InDbDate` -- Appears to be correctly formatted and appears pretty consistent in time.\n",
    "1. **`Block_Location` -- Errr, what a mess!  newline characters, and Geocoordinates all merged!!  Fortunately, this field was \"quoted\" otherwise we would have had trouble parsing the file. (why?)**\n",
    "1. `BLKADDR` -- This appears to be the address in Block Location.\n",
    "1. `City` and `State` seem redundant given this is supposed to be the city of Berkeley dataset."
   ]
  },
  {
   "cell_type": "markdown",
   "metadata": {},
   "source": [
    "\n",
    "### Checking that the City and State fields are all Berkeley CA\n",
    "\n",
    "We notice that there are city and state columns.  Since this is supposed to be data for the city of Berkeley these columns appear to be redundant.  Let's quickly compute the number of occurences of unique values for these two columns."
   ]
  },
  {
   "cell_type": "code",
   "execution_count": 14,
   "metadata": {
    "ExecuteTime": {
     "end_time": "2018-02-02T15:15:19.148804Z",
     "start_time": "2018-02-02T15:15:19.125216Z"
    }
   },
   "outputs": [
    {
     "data": {
      "text/html": [
       "<div>\n",
       "<style scoped>\n",
       "    .dataframe tbody tr th:only-of-type {\n",
       "        vertical-align: middle;\n",
       "    }\n",
       "\n",
       "    .dataframe tbody tr th {\n",
       "        vertical-align: top;\n",
       "    }\n",
       "\n",
       "    .dataframe thead th {\n",
       "        text-align: right;\n",
       "    }\n",
       "</style>\n",
       "<table border=\"1\" class=\"dataframe\">\n",
       "  <thead>\n",
       "    <tr style=\"text-align: right;\">\n",
       "      <th></th>\n",
       "      <th></th>\n",
       "      <th>CASENO</th>\n",
       "      <th>OFFENSE</th>\n",
       "      <th>EVENTDT</th>\n",
       "      <th>EVENTTM</th>\n",
       "      <th>CVLEGEND</th>\n",
       "      <th>CVDOW</th>\n",
       "      <th>InDbDate</th>\n",
       "      <th>Block_Location</th>\n",
       "      <th>BLKADDR</th>\n",
       "    </tr>\n",
       "    <tr>\n",
       "      <th>City</th>\n",
       "      <th>State</th>\n",
       "      <th></th>\n",
       "      <th></th>\n",
       "      <th></th>\n",
       "      <th></th>\n",
       "      <th></th>\n",
       "      <th></th>\n",
       "      <th></th>\n",
       "      <th></th>\n",
       "      <th></th>\n",
       "    </tr>\n",
       "  </thead>\n",
       "  <tbody>\n",
       "    <tr>\n",
       "      <td>Berkeley</td>\n",
       "      <td>CA</td>\n",
       "      <td>5227</td>\n",
       "      <td>5227</td>\n",
       "      <td>5227</td>\n",
       "      <td>5227</td>\n",
       "      <td>5227</td>\n",
       "      <td>5227</td>\n",
       "      <td>5227</td>\n",
       "      <td>5227</td>\n",
       "      <td>5190</td>\n",
       "    </tr>\n",
       "  </tbody>\n",
       "</table>\n",
       "</div>"
      ],
      "text/plain": [
       "                CASENO  OFFENSE  EVENTDT  EVENTTM  CVLEGEND  CVDOW  InDbDate  \\\n",
       "City     State                                                                 \n",
       "Berkeley CA       5227     5227     5227     5227      5227   5227      5227   \n",
       "\n",
       "                Block_Location  BLKADDR  \n",
       "City     State                           \n",
       "Berkeley CA               5227     5190  "
      ]
     },
     "execution_count": 14,
     "metadata": {},
     "output_type": "execute_result"
    }
   ],
   "source": [
    "calls.groupby([\"City\", \"State\"]).count()"
   ]
  },
  {
   "cell_type": "markdown",
   "metadata": {},
   "source": [
    "### Decoding day of the week\n",
    "\n",
    "According to the documentation `CVDOW=0` is Sunday, `CVDOW=1` is Monday, ...,  Therefore we can make a series to decode the day of the week for each record and join that series with the calls data."
   ]
  },
  {
   "cell_type": "code",
   "execution_count": 15,
   "metadata": {
    "ExecuteTime": {
     "end_time": "2018-02-02T15:15:19.160218Z",
     "start_time": "2018-02-02T15:15:19.152680Z"
    }
   },
   "outputs": [
    {
     "data": {
      "text/plain": [
       "0       Sunday\n",
       "1       Monday\n",
       "2      Tuesday\n",
       "3    Wednesday\n",
       "4     Thursday\n",
       "5       Friday\n",
       "6     Saturday\n",
       "Name: Day, dtype: object"
      ]
     },
     "execution_count": 15,
     "metadata": {},
     "output_type": "execute_result"
    }
   ],
   "source": [
    "dow = pd.Series([\"Sunday\", \"Monday\", \"Tuesday\", \"Wednesday\", \"Thursday\", \"Friday\", \"Saturday\"], name=\"Day\")\n",
    "dow"
   ]
  },
  {
   "cell_type": "code",
   "execution_count": 16,
   "metadata": {
    "ExecuteTime": {
     "end_time": "2018-02-02T15:15:19.224038Z",
     "start_time": "2018-02-02T15:15:19.189254Z"
    }
   },
   "outputs": [
    {
     "data": {
      "text/html": [
       "<div>\n",
       "<style scoped>\n",
       "    .dataframe tbody tr th:only-of-type {\n",
       "        vertical-align: middle;\n",
       "    }\n",
       "\n",
       "    .dataframe tbody tr th {\n",
       "        vertical-align: top;\n",
       "    }\n",
       "\n",
       "    .dataframe thead th {\n",
       "        text-align: right;\n",
       "    }\n",
       "</style>\n",
       "<table border=\"1\" class=\"dataframe\">\n",
       "  <thead>\n",
       "    <tr style=\"text-align: right;\">\n",
       "      <th></th>\n",
       "      <th>CASENO</th>\n",
       "      <th>OFFENSE</th>\n",
       "      <th>EVENTDT</th>\n",
       "      <th>EVENTTM</th>\n",
       "      <th>CVLEGEND</th>\n",
       "      <th>CVDOW</th>\n",
       "      <th>InDbDate</th>\n",
       "      <th>Block_Location</th>\n",
       "      <th>BLKADDR</th>\n",
       "      <th>City</th>\n",
       "      <th>State</th>\n",
       "      <th>Day</th>\n",
       "    </tr>\n",
       "  </thead>\n",
       "  <tbody>\n",
       "    <tr>\n",
       "      <td>0</td>\n",
       "      <td>19059951</td>\n",
       "      <td>DISTURBANCE</td>\n",
       "      <td>10/22/2019 12:00:00 AM</td>\n",
       "      <td>12:06</td>\n",
       "      <td>DISORDERLY CONDUCT</td>\n",
       "      <td>2</td>\n",
       "      <td>06/25/2020 07:00:15 AM</td>\n",
       "      <td>2950 DURANT ST\\nBerkeley, CA</td>\n",
       "      <td>2950 DURANT ST</td>\n",
       "      <td>Berkeley</td>\n",
       "      <td>CA</td>\n",
       "      <td>Tuesday</td>\n",
       "    </tr>\n",
       "    <tr>\n",
       "      <td>1</td>\n",
       "      <td>19039736</td>\n",
       "      <td>DISTURBANCE</td>\n",
       "      <td>07/21/2019 12:00:00 AM</td>\n",
       "      <td>04:30</td>\n",
       "      <td>DISORDERLY CONDUCT</td>\n",
       "      <td>0</td>\n",
       "      <td>06/25/2020 07:00:11 AM</td>\n",
       "      <td>300 CANYON RD\\nBerkeley, CA</td>\n",
       "      <td>300 CANYON RD</td>\n",
       "      <td>Berkeley</td>\n",
       "      <td>CA</td>\n",
       "      <td>Sunday</td>\n",
       "    </tr>\n",
       "    <tr>\n",
       "      <td>2</td>\n",
       "      <td>19066056</td>\n",
       "      <td>BURGLARY AUTO</td>\n",
       "      <td>11/19/2019 12:00:00 AM</td>\n",
       "      <td>22:00</td>\n",
       "      <td>BURGLARY - VEHICLE</td>\n",
       "      <td>2</td>\n",
       "      <td>06/25/2020 07:00:16 AM</td>\n",
       "      <td>4TH ST\\nBerkeley, CA</td>\n",
       "      <td>4TH ST</td>\n",
       "      <td>Berkeley</td>\n",
       "      <td>CA</td>\n",
       "      <td>Tuesday</td>\n",
       "    </tr>\n",
       "    <tr>\n",
       "      <td>3</td>\n",
       "      <td>19051156</td>\n",
       "      <td>VEHICLE STOLEN</td>\n",
       "      <td>09/10/2019 12:00:00 AM</td>\n",
       "      <td>19:00</td>\n",
       "      <td>MOTOR VEHICLE THEFT</td>\n",
       "      <td>2</td>\n",
       "      <td>06/25/2020 07:00:13 AM</td>\n",
       "      <td>100 MENLO PL\\nBerkeley, CA</td>\n",
       "      <td>100 MENLO PL</td>\n",
       "      <td>Berkeley</td>\n",
       "      <td>CA</td>\n",
       "      <td>Tuesday</td>\n",
       "    </tr>\n",
       "    <tr>\n",
       "      <td>4</td>\n",
       "      <td>19068960</td>\n",
       "      <td>BURGLARY AUTO</td>\n",
       "      <td>12/05/2019 12:00:00 AM</td>\n",
       "      <td>15:45</td>\n",
       "      <td>BURGLARY - VEHICLE</td>\n",
       "      <td>4</td>\n",
       "      <td>06/25/2020 07:00:17 AM</td>\n",
       "      <td>800 HILLCREST RD\\nBerkeley, CA</td>\n",
       "      <td>800 HILLCREST RD</td>\n",
       "      <td>Berkeley</td>\n",
       "      <td>CA</td>\n",
       "      <td>Thursday</td>\n",
       "    </tr>\n",
       "    <tr>\n",
       "      <td>...</td>\n",
       "      <td>...</td>\n",
       "      <td>...</td>\n",
       "      <td>...</td>\n",
       "      <td>...</td>\n",
       "      <td>...</td>\n",
       "      <td>...</td>\n",
       "      <td>...</td>\n",
       "      <td>...</td>\n",
       "      <td>...</td>\n",
       "      <td>...</td>\n",
       "      <td>...</td>\n",
       "      <td>...</td>\n",
       "    </tr>\n",
       "    <tr>\n",
       "      <td>5222</td>\n",
       "      <td>19092587</td>\n",
       "      <td>BURGLARY RESIDENTIAL</td>\n",
       "      <td>11/21/2019 12:00:00 AM</td>\n",
       "      <td>04:45</td>\n",
       "      <td>BURGLARY - RESIDENTIAL</td>\n",
       "      <td>4</td>\n",
       "      <td>06/25/2020 07:00:16 AM</td>\n",
       "      <td>3100 ELLIS ST\\nBerkeley, CA\\n(37.852066, -122....</td>\n",
       "      <td>3100 ELLIS ST</td>\n",
       "      <td>Berkeley</td>\n",
       "      <td>CA</td>\n",
       "      <td>Thursday</td>\n",
       "    </tr>\n",
       "    <tr>\n",
       "      <td>5223</td>\n",
       "      <td>19043809</td>\n",
       "      <td>DISTURBANCE</td>\n",
       "      <td>08/08/2019 12:00:00 AM</td>\n",
       "      <td>23:50</td>\n",
       "      <td>DISORDERLY CONDUCT</td>\n",
       "      <td>4</td>\n",
       "      <td>06/25/2020 07:00:11 AM</td>\n",
       "      <td>2500 DURANT AV\\nBerkeley, CA\\n(37.867852, -122...</td>\n",
       "      <td>2500 DURANT AV</td>\n",
       "      <td>Berkeley</td>\n",
       "      <td>CA</td>\n",
       "      <td>Thursday</td>\n",
       "    </tr>\n",
       "    <tr>\n",
       "      <td>5224</td>\n",
       "      <td>19092364</td>\n",
       "      <td>BURGLARY AUTO</td>\n",
       "      <td>10/26/2019 12:00:00 AM</td>\n",
       "      <td>16:50</td>\n",
       "      <td>BURGLARY - VEHICLE</td>\n",
       "      <td>6</td>\n",
       "      <td>06/25/2020 07:00:15 AM</td>\n",
       "      <td>100 TAMALPAIS RD\\nBerkeley, CA\\n(37.885312, -1...</td>\n",
       "      <td>100 TAMALPAIS RD</td>\n",
       "      <td>Berkeley</td>\n",
       "      <td>CA</td>\n",
       "      <td>Saturday</td>\n",
       "    </tr>\n",
       "    <tr>\n",
       "      <td>5225</td>\n",
       "      <td>19040012</td>\n",
       "      <td>BURGLARY AUTO</td>\n",
       "      <td>07/22/2019 12:00:00 AM</td>\n",
       "      <td>19:30</td>\n",
       "      <td>BURGLARY - VEHICLE</td>\n",
       "      <td>1</td>\n",
       "      <td>06/25/2020 07:00:11 AM</td>\n",
       "      <td>HEARST AV &amp; 4TH ST\\nBerkeley, CA\\n(37.868878, ...</td>\n",
       "      <td>HEARST AV &amp; 4TH ST</td>\n",
       "      <td>Berkeley</td>\n",
       "      <td>CA</td>\n",
       "      <td>Monday</td>\n",
       "    </tr>\n",
       "    <tr>\n",
       "      <td>5226</td>\n",
       "      <td>19047871</td>\n",
       "      <td>THEFT MISD. (UNDER $950)</td>\n",
       "      <td>08/27/2019 12:00:00 AM</td>\n",
       "      <td>11:55</td>\n",
       "      <td>LARCENY</td>\n",
       "      <td>2</td>\n",
       "      <td>06/25/2020 07:00:12 AM</td>\n",
       "      <td>2300 TELEGRAPH AV\\nBerkeley, CA\\n(37.868714, -...</td>\n",
       "      <td>2300 TELEGRAPH AV</td>\n",
       "      <td>Berkeley</td>\n",
       "      <td>CA</td>\n",
       "      <td>Tuesday</td>\n",
       "    </tr>\n",
       "  </tbody>\n",
       "</table>\n",
       "<p>5227 rows × 12 columns</p>\n",
       "</div>"
      ],
      "text/plain": [
       "        CASENO                   OFFENSE                 EVENTDT EVENTTM  \\\n",
       "0     19059951               DISTURBANCE  10/22/2019 12:00:00 AM   12:06   \n",
       "1     19039736               DISTURBANCE  07/21/2019 12:00:00 AM   04:30   \n",
       "2     19066056             BURGLARY AUTO  11/19/2019 12:00:00 AM   22:00   \n",
       "3     19051156            VEHICLE STOLEN  09/10/2019 12:00:00 AM   19:00   \n",
       "4     19068960             BURGLARY AUTO  12/05/2019 12:00:00 AM   15:45   \n",
       "...        ...                       ...                     ...     ...   \n",
       "5222  19092587      BURGLARY RESIDENTIAL  11/21/2019 12:00:00 AM   04:45   \n",
       "5223  19043809               DISTURBANCE  08/08/2019 12:00:00 AM   23:50   \n",
       "5224  19092364             BURGLARY AUTO  10/26/2019 12:00:00 AM   16:50   \n",
       "5225  19040012             BURGLARY AUTO  07/22/2019 12:00:00 AM   19:30   \n",
       "5226  19047871  THEFT MISD. (UNDER $950)  08/27/2019 12:00:00 AM   11:55   \n",
       "\n",
       "                    CVLEGEND  CVDOW                InDbDate  \\\n",
       "0         DISORDERLY CONDUCT      2  06/25/2020 07:00:15 AM   \n",
       "1         DISORDERLY CONDUCT      0  06/25/2020 07:00:11 AM   \n",
       "2         BURGLARY - VEHICLE      2  06/25/2020 07:00:16 AM   \n",
       "3        MOTOR VEHICLE THEFT      2  06/25/2020 07:00:13 AM   \n",
       "4         BURGLARY - VEHICLE      4  06/25/2020 07:00:17 AM   \n",
       "...                      ...    ...                     ...   \n",
       "5222  BURGLARY - RESIDENTIAL      4  06/25/2020 07:00:16 AM   \n",
       "5223      DISORDERLY CONDUCT      4  06/25/2020 07:00:11 AM   \n",
       "5224      BURGLARY - VEHICLE      6  06/25/2020 07:00:15 AM   \n",
       "5225      BURGLARY - VEHICLE      1  06/25/2020 07:00:11 AM   \n",
       "5226                 LARCENY      2  06/25/2020 07:00:12 AM   \n",
       "\n",
       "                                         Block_Location             BLKADDR  \\\n",
       "0                          2950 DURANT ST\\nBerkeley, CA      2950 DURANT ST   \n",
       "1                           300 CANYON RD\\nBerkeley, CA       300 CANYON RD   \n",
       "2                                  4TH ST\\nBerkeley, CA              4TH ST   \n",
       "3                            100 MENLO PL\\nBerkeley, CA        100 MENLO PL   \n",
       "4                        800 HILLCREST RD\\nBerkeley, CA    800 HILLCREST RD   \n",
       "...                                                 ...                 ...   \n",
       "5222  3100 ELLIS ST\\nBerkeley, CA\\n(37.852066, -122....       3100 ELLIS ST   \n",
       "5223  2500 DURANT AV\\nBerkeley, CA\\n(37.867852, -122...      2500 DURANT AV   \n",
       "5224  100 TAMALPAIS RD\\nBerkeley, CA\\n(37.885312, -1...    100 TAMALPAIS RD   \n",
       "5225  HEARST AV & 4TH ST\\nBerkeley, CA\\n(37.868878, ...  HEARST AV & 4TH ST   \n",
       "5226  2300 TELEGRAPH AV\\nBerkeley, CA\\n(37.868714, -...   2300 TELEGRAPH AV   \n",
       "\n",
       "          City State       Day  \n",
       "0     Berkeley    CA   Tuesday  \n",
       "1     Berkeley    CA    Sunday  \n",
       "2     Berkeley    CA   Tuesday  \n",
       "3     Berkeley    CA   Tuesday  \n",
       "4     Berkeley    CA  Thursday  \n",
       "...        ...   ...       ...  \n",
       "5222  Berkeley    CA  Thursday  \n",
       "5223  Berkeley    CA  Thursday  \n",
       "5224  Berkeley    CA  Saturday  \n",
       "5225  Berkeley    CA    Monday  \n",
       "5226  Berkeley    CA   Tuesday  \n",
       "\n",
       "[5227 rows x 12 columns]"
      ]
     },
     "execution_count": 16,
     "metadata": {},
     "output_type": "execute_result"
    }
   ],
   "source": [
    "df_dow = pd.DataFrame(dow)\n",
    "# Notice that I am dropping the column if it already exists to\n",
    "# make it so I can run this cell more than once\n",
    "calls = pd.merge(calls.drop(columns=\"Day\", errors=\"ignore\"), \n",
    "         df_dow, left_on='CVDOW', right_index=True).sort_index()\n",
    "calls"
   ]
  },
  {
   "cell_type": "markdown",
   "metadata": {},
   "source": [
    "### Cleaning Block Location\n",
    "\n",
    "The block location contains the lat/lon coordinates and I might want to use these to analyze the location of each request.  Let's try to extract the GPS coordinates using regular expressions (we will cover regular expressions in future lectures):\n"
   ]
  },
  {
   "cell_type": "code",
   "execution_count": 17,
   "metadata": {
    "ExecuteTime": {
     "end_time": "2018-02-02T15:15:19.230720Z",
     "start_time": "2018-02-02T15:15:19.225971Z"
    }
   },
   "outputs": [
    {
     "data": {
      "text/plain": [
       "0      2950 DURANT ST\\nBerkeley, CA\n",
       "1       300 CANYON RD\\nBerkeley, CA\n",
       "2              4TH ST\\nBerkeley, CA\n",
       "3        100 MENLO PL\\nBerkeley, CA\n",
       "4    800 HILLCREST RD\\nBerkeley, CA\n",
       "5         MARINA BLVD\\nBerkeley, CA\n",
       "6           <UNKNOWN>\\nBerkeley, CA\n",
       "7           ASHBY AVE\\nBerkeley, CA\n",
       "8         500 ETON CT\\nBerkeley, CA\n",
       "9       1605 62ND TER\\nBerkeley, CA\n",
       "Name: Block_Location, dtype: object"
      ]
     },
     "execution_count": 17,
     "metadata": {},
     "output_type": "execute_result"
    }
   ],
   "source": [
    "calls['Block_Location'].head(10)"
   ]
  },
  {
   "cell_type": "code",
   "execution_count": 18,
   "metadata": {
    "ExecuteTime": {
     "end_time": "2018-02-02T15:15:19.268222Z",
     "start_time": "2018-02-02T15:15:19.233193Z"
    }
   },
   "outputs": [
    {
     "data": {
      "text/html": [
       "<div>\n",
       "<style scoped>\n",
       "    .dataframe tbody tr th:only-of-type {\n",
       "        vertical-align: middle;\n",
       "    }\n",
       "\n",
       "    .dataframe tbody tr th {\n",
       "        vertical-align: top;\n",
       "    }\n",
       "\n",
       "    .dataframe thead th {\n",
       "        text-align: right;\n",
       "    }\n",
       "</style>\n",
       "<table border=\"1\" class=\"dataframe\">\n",
       "  <thead>\n",
       "    <tr style=\"text-align: right;\">\n",
       "      <th></th>\n",
       "      <th>Lat</th>\n",
       "      <th>Lon</th>\n",
       "    </tr>\n",
       "  </thead>\n",
       "  <tbody>\n",
       "    <tr>\n",
       "      <td>0</td>\n",
       "      <td>NaN</td>\n",
       "      <td>NaN</td>\n",
       "    </tr>\n",
       "    <tr>\n",
       "      <td>1</td>\n",
       "      <td>NaN</td>\n",
       "      <td>NaN</td>\n",
       "    </tr>\n",
       "    <tr>\n",
       "      <td>2</td>\n",
       "      <td>NaN</td>\n",
       "      <td>NaN</td>\n",
       "    </tr>\n",
       "    <tr>\n",
       "      <td>3</td>\n",
       "      <td>NaN</td>\n",
       "      <td>NaN</td>\n",
       "    </tr>\n",
       "    <tr>\n",
       "      <td>4</td>\n",
       "      <td>NaN</td>\n",
       "      <td>NaN</td>\n",
       "    </tr>\n",
       "    <tr>\n",
       "      <td>5</td>\n",
       "      <td>NaN</td>\n",
       "      <td>NaN</td>\n",
       "    </tr>\n",
       "    <tr>\n",
       "      <td>6</td>\n",
       "      <td>NaN</td>\n",
       "      <td>NaN</td>\n",
       "    </tr>\n",
       "    <tr>\n",
       "      <td>7</td>\n",
       "      <td>NaN</td>\n",
       "      <td>NaN</td>\n",
       "    </tr>\n",
       "    <tr>\n",
       "      <td>8</td>\n",
       "      <td>NaN</td>\n",
       "      <td>NaN</td>\n",
       "    </tr>\n",
       "    <tr>\n",
       "      <td>9</td>\n",
       "      <td>NaN</td>\n",
       "      <td>NaN</td>\n",
       "    </tr>\n",
       "    <tr>\n",
       "      <td>10</td>\n",
       "      <td>NaN</td>\n",
       "      <td>NaN</td>\n",
       "    </tr>\n",
       "    <tr>\n",
       "      <td>11</td>\n",
       "      <td>NaN</td>\n",
       "      <td>NaN</td>\n",
       "    </tr>\n",
       "    <tr>\n",
       "      <td>12</td>\n",
       "      <td>NaN</td>\n",
       "      <td>NaN</td>\n",
       "    </tr>\n",
       "    <tr>\n",
       "      <td>13</td>\n",
       "      <td>NaN</td>\n",
       "      <td>NaN</td>\n",
       "    </tr>\n",
       "    <tr>\n",
       "      <td>14</td>\n",
       "      <td>37.867831</td>\n",
       "      <td>-122.265858</td>\n",
       "    </tr>\n",
       "    <tr>\n",
       "      <td>15</td>\n",
       "      <td>37.862512</td>\n",
       "      <td>-122.290094</td>\n",
       "    </tr>\n",
       "    <tr>\n",
       "      <td>16</td>\n",
       "      <td>37.857474</td>\n",
       "      <td>-122.275425</td>\n",
       "    </tr>\n",
       "    <tr>\n",
       "      <td>17</td>\n",
       "      <td>37.855935</td>\n",
       "      <td>-122.250579</td>\n",
       "    </tr>\n",
       "    <tr>\n",
       "      <td>18</td>\n",
       "      <td>37.862512</td>\n",
       "      <td>-122.290094</td>\n",
       "    </tr>\n",
       "    <tr>\n",
       "      <td>19</td>\n",
       "      <td>37.869888</td>\n",
       "      <td>-122.300618</td>\n",
       "    </tr>\n",
       "  </tbody>\n",
       "</table>\n",
       "</div>"
      ],
      "text/plain": [
       "          Lat          Lon\n",
       "0         NaN          NaN\n",
       "1         NaN          NaN\n",
       "2         NaN          NaN\n",
       "3         NaN          NaN\n",
       "4         NaN          NaN\n",
       "5         NaN          NaN\n",
       "6         NaN          NaN\n",
       "7         NaN          NaN\n",
       "8         NaN          NaN\n",
       "9         NaN          NaN\n",
       "10        NaN          NaN\n",
       "11        NaN          NaN\n",
       "12        NaN          NaN\n",
       "13        NaN          NaN\n",
       "14  37.867831  -122.265858\n",
       "15  37.862512  -122.290094\n",
       "16  37.857474  -122.275425\n",
       "17  37.855935  -122.250579\n",
       "18  37.862512  -122.290094\n",
       "19  37.869888  -122.300618"
      ]
     },
     "execution_count": 18,
     "metadata": {},
     "output_type": "execute_result"
    }
   ],
   "source": [
    "calls_lat_lon = (\n",
    "    # Remove newlines\n",
    "    calls['Block_Location'].str.replace(\"\\n\", \"\\t\") \n",
    "    # Extract Lat and Lon using regular expression\n",
    "    .str.extract(\".*\\((?P<Lat>\\d*\\.\\d*)\\, (?P<Lon>-?\\d*\\.\\d*)\\)\", expand=True)\n",
    ")\n",
    "calls_lat_lon.head(20)"
   ]
  },
  {
   "cell_type": "markdown",
   "metadata": {},
   "source": [
    "Not all the records have a lat and lon.  What fraction do have coordinates?"
   ]
  },
  {
   "cell_type": "code",
   "execution_count": 19,
   "metadata": {
    "ExecuteTime": {
     "end_time": "2018-02-02T15:15:19.280471Z",
     "start_time": "2018-02-02T15:15:19.271307Z"
    }
   },
   "outputs": [
    {
     "data": {
      "text/plain": [
       "Lat    0.963076\n",
       "Lon    0.963076\n",
       "dtype: float64"
      ]
     },
     "execution_count": 19,
     "metadata": {},
     "output_type": "execute_result"
    }
   ],
   "source": [
    "(~calls_lat_lon.isnull()).mean()"
   ]
  },
  {
   "cell_type": "markdown",
   "metadata": {},
   "source": [
    "The following block of code joins the extracted Latitude and Longitude fields with the calls data.  Notice that we actually drop these fields before joining.  This is to enable repeated invocation of this cell even after the join has been completed. "
   ]
  },
  {
   "cell_type": "code",
   "execution_count": 20,
   "metadata": {
    "ExecuteTime": {
     "end_time": "2018-02-02T15:15:19.328544Z",
     "start_time": "2018-02-02T15:15:19.287625Z"
    },
    "scrolled": true
   },
   "outputs": [
    {
     "data": {
      "text/html": [
       "<div>\n",
       "<style scoped>\n",
       "    .dataframe tbody tr th:only-of-type {\n",
       "        vertical-align: middle;\n",
       "    }\n",
       "\n",
       "    .dataframe tbody tr th {\n",
       "        vertical-align: top;\n",
       "    }\n",
       "\n",
       "    .dataframe thead th {\n",
       "        text-align: right;\n",
       "    }\n",
       "</style>\n",
       "<table border=\"1\" class=\"dataframe\">\n",
       "  <thead>\n",
       "    <tr style=\"text-align: right;\">\n",
       "      <th></th>\n",
       "      <th>CASENO</th>\n",
       "      <th>OFFENSE</th>\n",
       "      <th>EVENTDT</th>\n",
       "      <th>EVENTTM</th>\n",
       "      <th>CVLEGEND</th>\n",
       "      <th>CVDOW</th>\n",
       "      <th>InDbDate</th>\n",
       "      <th>Block_Location</th>\n",
       "      <th>BLKADDR</th>\n",
       "      <th>City</th>\n",
       "      <th>State</th>\n",
       "      <th>Day</th>\n",
       "      <th>Lat</th>\n",
       "      <th>Lon</th>\n",
       "    </tr>\n",
       "  </thead>\n",
       "  <tbody>\n",
       "    <tr>\n",
       "      <td>0</td>\n",
       "      <td>19059951</td>\n",
       "      <td>DISTURBANCE</td>\n",
       "      <td>10/22/2019 12:00:00 AM</td>\n",
       "      <td>12:06</td>\n",
       "      <td>DISORDERLY CONDUCT</td>\n",
       "      <td>2</td>\n",
       "      <td>06/25/2020 07:00:15 AM</td>\n",
       "      <td>2950 DURANT ST\\nBerkeley, CA</td>\n",
       "      <td>2950 DURANT ST</td>\n",
       "      <td>Berkeley</td>\n",
       "      <td>CA</td>\n",
       "      <td>Tuesday</td>\n",
       "      <td>NaN</td>\n",
       "      <td>NaN</td>\n",
       "    </tr>\n",
       "    <tr>\n",
       "      <td>1</td>\n",
       "      <td>19039736</td>\n",
       "      <td>DISTURBANCE</td>\n",
       "      <td>07/21/2019 12:00:00 AM</td>\n",
       "      <td>04:30</td>\n",
       "      <td>DISORDERLY CONDUCT</td>\n",
       "      <td>0</td>\n",
       "      <td>06/25/2020 07:00:11 AM</td>\n",
       "      <td>300 CANYON RD\\nBerkeley, CA</td>\n",
       "      <td>300 CANYON RD</td>\n",
       "      <td>Berkeley</td>\n",
       "      <td>CA</td>\n",
       "      <td>Sunday</td>\n",
       "      <td>NaN</td>\n",
       "      <td>NaN</td>\n",
       "    </tr>\n",
       "    <tr>\n",
       "      <td>2</td>\n",
       "      <td>19066056</td>\n",
       "      <td>BURGLARY AUTO</td>\n",
       "      <td>11/19/2019 12:00:00 AM</td>\n",
       "      <td>22:00</td>\n",
       "      <td>BURGLARY - VEHICLE</td>\n",
       "      <td>2</td>\n",
       "      <td>06/25/2020 07:00:16 AM</td>\n",
       "      <td>4TH ST\\nBerkeley, CA</td>\n",
       "      <td>4TH ST</td>\n",
       "      <td>Berkeley</td>\n",
       "      <td>CA</td>\n",
       "      <td>Tuesday</td>\n",
       "      <td>NaN</td>\n",
       "      <td>NaN</td>\n",
       "    </tr>\n",
       "    <tr>\n",
       "      <td>3</td>\n",
       "      <td>19051156</td>\n",
       "      <td>VEHICLE STOLEN</td>\n",
       "      <td>09/10/2019 12:00:00 AM</td>\n",
       "      <td>19:00</td>\n",
       "      <td>MOTOR VEHICLE THEFT</td>\n",
       "      <td>2</td>\n",
       "      <td>06/25/2020 07:00:13 AM</td>\n",
       "      <td>100 MENLO PL\\nBerkeley, CA</td>\n",
       "      <td>100 MENLO PL</td>\n",
       "      <td>Berkeley</td>\n",
       "      <td>CA</td>\n",
       "      <td>Tuesday</td>\n",
       "      <td>NaN</td>\n",
       "      <td>NaN</td>\n",
       "    </tr>\n",
       "    <tr>\n",
       "      <td>4</td>\n",
       "      <td>19068960</td>\n",
       "      <td>BURGLARY AUTO</td>\n",
       "      <td>12/05/2019 12:00:00 AM</td>\n",
       "      <td>15:45</td>\n",
       "      <td>BURGLARY - VEHICLE</td>\n",
       "      <td>4</td>\n",
       "      <td>06/25/2020 07:00:17 AM</td>\n",
       "      <td>800 HILLCREST RD\\nBerkeley, CA</td>\n",
       "      <td>800 HILLCREST RD</td>\n",
       "      <td>Berkeley</td>\n",
       "      <td>CA</td>\n",
       "      <td>Thursday</td>\n",
       "      <td>NaN</td>\n",
       "      <td>NaN</td>\n",
       "    </tr>\n",
       "  </tbody>\n",
       "</table>\n",
       "</div>"
      ],
      "text/plain": [
       "     CASENO         OFFENSE                 EVENTDT EVENTTM  \\\n",
       "0  19059951     DISTURBANCE  10/22/2019 12:00:00 AM   12:06   \n",
       "1  19039736     DISTURBANCE  07/21/2019 12:00:00 AM   04:30   \n",
       "2  19066056   BURGLARY AUTO  11/19/2019 12:00:00 AM   22:00   \n",
       "3  19051156  VEHICLE STOLEN  09/10/2019 12:00:00 AM   19:00   \n",
       "4  19068960   BURGLARY AUTO  12/05/2019 12:00:00 AM   15:45   \n",
       "\n",
       "              CVLEGEND  CVDOW                InDbDate  \\\n",
       "0   DISORDERLY CONDUCT      2  06/25/2020 07:00:15 AM   \n",
       "1   DISORDERLY CONDUCT      0  06/25/2020 07:00:11 AM   \n",
       "2   BURGLARY - VEHICLE      2  06/25/2020 07:00:16 AM   \n",
       "3  MOTOR VEHICLE THEFT      2  06/25/2020 07:00:13 AM   \n",
       "4   BURGLARY - VEHICLE      4  06/25/2020 07:00:17 AM   \n",
       "\n",
       "                   Block_Location           BLKADDR      City State       Day  \\\n",
       "0    2950 DURANT ST\\nBerkeley, CA    2950 DURANT ST  Berkeley    CA   Tuesday   \n",
       "1     300 CANYON RD\\nBerkeley, CA     300 CANYON RD  Berkeley    CA    Sunday   \n",
       "2            4TH ST\\nBerkeley, CA            4TH ST  Berkeley    CA   Tuesday   \n",
       "3      100 MENLO PL\\nBerkeley, CA      100 MENLO PL  Berkeley    CA   Tuesday   \n",
       "4  800 HILLCREST RD\\nBerkeley, CA  800 HILLCREST RD  Berkeley    CA  Thursday   \n",
       "\n",
       "   Lat  Lon  \n",
       "0  NaN  NaN  \n",
       "1  NaN  NaN  \n",
       "2  NaN  NaN  \n",
       "3  NaN  NaN  \n",
       "4  NaN  NaN  "
      ]
     },
     "execution_count": 20,
     "metadata": {},
     "output_type": "execute_result"
    }
   ],
   "source": [
    "# Remove Lat and Lon if they already existed before (reproducible)\n",
    "calls.drop([\"Lat\", \"Lon\"], axis=1, inplace=True, errors=\"ignore\")\n",
    "# Join in the the latitude and longitude data\n",
    "calls = calls.merge(calls_lat_lon, left_index=True, right_index=True)\n",
    "# calls[[\"Lat\", \"Lon\"]] = calls_lat_lon\n",
    "# calls.join(calls_lat_lon)\n",
    "calls.head()"
   ]
  },
  {
   "cell_type": "markdown",
   "metadata": {},
   "source": [
    "We can now look at a few of the records that were missing latitude and longitude entries:"
   ]
  },
  {
   "cell_type": "code",
   "execution_count": 21,
   "metadata": {
    "ExecuteTime": {
     "end_time": "2018-02-02T15:15:19.356799Z",
     "start_time": "2018-02-02T15:15:19.330874Z"
    }
   },
   "outputs": [
    {
     "data": {
      "text/html": [
       "<div>\n",
       "<style scoped>\n",
       "    .dataframe tbody tr th:only-of-type {\n",
       "        vertical-align: middle;\n",
       "    }\n",
       "\n",
       "    .dataframe tbody tr th {\n",
       "        vertical-align: top;\n",
       "    }\n",
       "\n",
       "    .dataframe thead th {\n",
       "        text-align: right;\n",
       "    }\n",
       "</style>\n",
       "<table border=\"1\" class=\"dataframe\">\n",
       "  <thead>\n",
       "    <tr style=\"text-align: right;\">\n",
       "      <th></th>\n",
       "      <th>CASENO</th>\n",
       "      <th>OFFENSE</th>\n",
       "      <th>EVENTDT</th>\n",
       "      <th>EVENTTM</th>\n",
       "      <th>CVLEGEND</th>\n",
       "      <th>CVDOW</th>\n",
       "      <th>InDbDate</th>\n",
       "      <th>Block_Location</th>\n",
       "      <th>BLKADDR</th>\n",
       "      <th>City</th>\n",
       "      <th>State</th>\n",
       "      <th>Day</th>\n",
       "      <th>Lat</th>\n",
       "      <th>Lon</th>\n",
       "    </tr>\n",
       "  </thead>\n",
       "  <tbody>\n",
       "    <tr>\n",
       "      <td>0</td>\n",
       "      <td>19059951</td>\n",
       "      <td>DISTURBANCE</td>\n",
       "      <td>10/22/2019 12:00:00 AM</td>\n",
       "      <td>12:06</td>\n",
       "      <td>DISORDERLY CONDUCT</td>\n",
       "      <td>2</td>\n",
       "      <td>06/25/2020 07:00:15 AM</td>\n",
       "      <td>2950 DURANT ST\\nBerkeley, CA</td>\n",
       "      <td>2950 DURANT ST</td>\n",
       "      <td>Berkeley</td>\n",
       "      <td>CA</td>\n",
       "      <td>Tuesday</td>\n",
       "      <td>NaN</td>\n",
       "      <td>NaN</td>\n",
       "    </tr>\n",
       "    <tr>\n",
       "      <td>1</td>\n",
       "      <td>19039736</td>\n",
       "      <td>DISTURBANCE</td>\n",
       "      <td>07/21/2019 12:00:00 AM</td>\n",
       "      <td>04:30</td>\n",
       "      <td>DISORDERLY CONDUCT</td>\n",
       "      <td>0</td>\n",
       "      <td>06/25/2020 07:00:11 AM</td>\n",
       "      <td>300 CANYON RD\\nBerkeley, CA</td>\n",
       "      <td>300 CANYON RD</td>\n",
       "      <td>Berkeley</td>\n",
       "      <td>CA</td>\n",
       "      <td>Sunday</td>\n",
       "      <td>NaN</td>\n",
       "      <td>NaN</td>\n",
       "    </tr>\n",
       "    <tr>\n",
       "      <td>2</td>\n",
       "      <td>19066056</td>\n",
       "      <td>BURGLARY AUTO</td>\n",
       "      <td>11/19/2019 12:00:00 AM</td>\n",
       "      <td>22:00</td>\n",
       "      <td>BURGLARY - VEHICLE</td>\n",
       "      <td>2</td>\n",
       "      <td>06/25/2020 07:00:16 AM</td>\n",
       "      <td>4TH ST\\nBerkeley, CA</td>\n",
       "      <td>4TH ST</td>\n",
       "      <td>Berkeley</td>\n",
       "      <td>CA</td>\n",
       "      <td>Tuesday</td>\n",
       "      <td>NaN</td>\n",
       "      <td>NaN</td>\n",
       "    </tr>\n",
       "    <tr>\n",
       "      <td>3</td>\n",
       "      <td>19051156</td>\n",
       "      <td>VEHICLE STOLEN</td>\n",
       "      <td>09/10/2019 12:00:00 AM</td>\n",
       "      <td>19:00</td>\n",
       "      <td>MOTOR VEHICLE THEFT</td>\n",
       "      <td>2</td>\n",
       "      <td>06/25/2020 07:00:13 AM</td>\n",
       "      <td>100 MENLO PL\\nBerkeley, CA</td>\n",
       "      <td>100 MENLO PL</td>\n",
       "      <td>Berkeley</td>\n",
       "      <td>CA</td>\n",
       "      <td>Tuesday</td>\n",
       "      <td>NaN</td>\n",
       "      <td>NaN</td>\n",
       "    </tr>\n",
       "    <tr>\n",
       "      <td>4</td>\n",
       "      <td>19068960</td>\n",
       "      <td>BURGLARY AUTO</td>\n",
       "      <td>12/05/2019 12:00:00 AM</td>\n",
       "      <td>15:45</td>\n",
       "      <td>BURGLARY - VEHICLE</td>\n",
       "      <td>4</td>\n",
       "      <td>06/25/2020 07:00:17 AM</td>\n",
       "      <td>800 HILLCREST RD\\nBerkeley, CA</td>\n",
       "      <td>800 HILLCREST RD</td>\n",
       "      <td>Berkeley</td>\n",
       "      <td>CA</td>\n",
       "      <td>Thursday</td>\n",
       "      <td>NaN</td>\n",
       "      <td>NaN</td>\n",
       "    </tr>\n",
       "    <tr>\n",
       "      <td>5</td>\n",
       "      <td>19092685</td>\n",
       "      <td>BURGLARY AUTO</td>\n",
       "      <td>12/02/2019 12:00:00 AM</td>\n",
       "      <td>09:10</td>\n",
       "      <td>BURGLARY - VEHICLE</td>\n",
       "      <td>1</td>\n",
       "      <td>06/25/2020 07:00:17 AM</td>\n",
       "      <td>MARINA BLVD\\nBerkeley, CA</td>\n",
       "      <td>MARINA BLVD</td>\n",
       "      <td>Berkeley</td>\n",
       "      <td>CA</td>\n",
       "      <td>Monday</td>\n",
       "      <td>NaN</td>\n",
       "      <td>NaN</td>\n",
       "    </tr>\n",
       "    <tr>\n",
       "      <td>6</td>\n",
       "      <td>19043231</td>\n",
       "      <td>SEXUAL ASSAULT FEL.</td>\n",
       "      <td>08/04/2019 12:00:00 AM</td>\n",
       "      <td>00:00</td>\n",
       "      <td>SEX CRIME</td>\n",
       "      <td>0</td>\n",
       "      <td>06/25/2020 07:00:12 AM</td>\n",
       "      <td>&lt;UNKNOWN&gt;\\nBerkeley, CA</td>\n",
       "      <td>&lt;UNKNOWN&gt;</td>\n",
       "      <td>Berkeley</td>\n",
       "      <td>CA</td>\n",
       "      <td>Sunday</td>\n",
       "      <td>NaN</td>\n",
       "      <td>NaN</td>\n",
       "    </tr>\n",
       "    <tr>\n",
       "      <td>7</td>\n",
       "      <td>19092551</td>\n",
       "      <td>THEFT MISD. (UNDER $950)</td>\n",
       "      <td>11/17/2019 12:00:00 AM</td>\n",
       "      <td>12:00</td>\n",
       "      <td>LARCENY</td>\n",
       "      <td>0</td>\n",
       "      <td>06/25/2020 07:00:16 AM</td>\n",
       "      <td>ASHBY AVE\\nBerkeley, CA</td>\n",
       "      <td>ASHBY AVE</td>\n",
       "      <td>Berkeley</td>\n",
       "      <td>CA</td>\n",
       "      <td>Sunday</td>\n",
       "      <td>NaN</td>\n",
       "      <td>NaN</td>\n",
       "    </tr>\n",
       "    <tr>\n",
       "      <td>8</td>\n",
       "      <td>19053206</td>\n",
       "      <td>THEFT FROM AUTO</td>\n",
       "      <td>09/15/2019 12:00:00 AM</td>\n",
       "      <td>21:00</td>\n",
       "      <td>LARCENY - FROM VEHICLE</td>\n",
       "      <td>0</td>\n",
       "      <td>06/25/2020 07:00:13 AM</td>\n",
       "      <td>500 ETON CT\\nBerkeley, CA</td>\n",
       "      <td>500 ETON CT</td>\n",
       "      <td>Berkeley</td>\n",
       "      <td>CA</td>\n",
       "      <td>Sunday</td>\n",
       "      <td>NaN</td>\n",
       "      <td>NaN</td>\n",
       "    </tr>\n",
       "    <tr>\n",
       "      <td>9</td>\n",
       "      <td>19056444</td>\n",
       "      <td>NARCOTICS</td>\n",
       "      <td>10/05/2019 12:00:00 AM</td>\n",
       "      <td>15:07</td>\n",
       "      <td>DRUG VIOLATION</td>\n",
       "      <td>6</td>\n",
       "      <td>06/25/2020 07:00:14 AM</td>\n",
       "      <td>1605 62ND TER\\nBerkeley, CA</td>\n",
       "      <td>1605 62ND TER</td>\n",
       "      <td>Berkeley</td>\n",
       "      <td>CA</td>\n",
       "      <td>Saturday</td>\n",
       "      <td>NaN</td>\n",
       "      <td>NaN</td>\n",
       "    </tr>\n",
       "  </tbody>\n",
       "</table>\n",
       "</div>"
      ],
      "text/plain": [
       "     CASENO                   OFFENSE                 EVENTDT EVENTTM  \\\n",
       "0  19059951               DISTURBANCE  10/22/2019 12:00:00 AM   12:06   \n",
       "1  19039736               DISTURBANCE  07/21/2019 12:00:00 AM   04:30   \n",
       "2  19066056             BURGLARY AUTO  11/19/2019 12:00:00 AM   22:00   \n",
       "3  19051156            VEHICLE STOLEN  09/10/2019 12:00:00 AM   19:00   \n",
       "4  19068960             BURGLARY AUTO  12/05/2019 12:00:00 AM   15:45   \n",
       "5  19092685             BURGLARY AUTO  12/02/2019 12:00:00 AM   09:10   \n",
       "6  19043231       SEXUAL ASSAULT FEL.  08/04/2019 12:00:00 AM   00:00   \n",
       "7  19092551  THEFT MISD. (UNDER $950)  11/17/2019 12:00:00 AM   12:00   \n",
       "8  19053206           THEFT FROM AUTO  09/15/2019 12:00:00 AM   21:00   \n",
       "9  19056444                 NARCOTICS  10/05/2019 12:00:00 AM   15:07   \n",
       "\n",
       "                 CVLEGEND  CVDOW                InDbDate  \\\n",
       "0      DISORDERLY CONDUCT      2  06/25/2020 07:00:15 AM   \n",
       "1      DISORDERLY CONDUCT      0  06/25/2020 07:00:11 AM   \n",
       "2      BURGLARY - VEHICLE      2  06/25/2020 07:00:16 AM   \n",
       "3     MOTOR VEHICLE THEFT      2  06/25/2020 07:00:13 AM   \n",
       "4      BURGLARY - VEHICLE      4  06/25/2020 07:00:17 AM   \n",
       "5      BURGLARY - VEHICLE      1  06/25/2020 07:00:17 AM   \n",
       "6               SEX CRIME      0  06/25/2020 07:00:12 AM   \n",
       "7                 LARCENY      0  06/25/2020 07:00:16 AM   \n",
       "8  LARCENY - FROM VEHICLE      0  06/25/2020 07:00:13 AM   \n",
       "9          DRUG VIOLATION      6  06/25/2020 07:00:14 AM   \n",
       "\n",
       "                   Block_Location           BLKADDR      City State       Day  \\\n",
       "0    2950 DURANT ST\\nBerkeley, CA    2950 DURANT ST  Berkeley    CA   Tuesday   \n",
       "1     300 CANYON RD\\nBerkeley, CA     300 CANYON RD  Berkeley    CA    Sunday   \n",
       "2            4TH ST\\nBerkeley, CA            4TH ST  Berkeley    CA   Tuesday   \n",
       "3      100 MENLO PL\\nBerkeley, CA      100 MENLO PL  Berkeley    CA   Tuesday   \n",
       "4  800 HILLCREST RD\\nBerkeley, CA  800 HILLCREST RD  Berkeley    CA  Thursday   \n",
       "5       MARINA BLVD\\nBerkeley, CA       MARINA BLVD  Berkeley    CA    Monday   \n",
       "6         <UNKNOWN>\\nBerkeley, CA         <UNKNOWN>  Berkeley    CA    Sunday   \n",
       "7         ASHBY AVE\\nBerkeley, CA         ASHBY AVE  Berkeley    CA    Sunday   \n",
       "8       500 ETON CT\\nBerkeley, CA       500 ETON CT  Berkeley    CA    Sunday   \n",
       "9     1605 62ND TER\\nBerkeley, CA     1605 62ND TER  Berkeley    CA  Saturday   \n",
       "\n",
       "   Lat  Lon  \n",
       "0  NaN  NaN  \n",
       "1  NaN  NaN  \n",
       "2  NaN  NaN  \n",
       "3  NaN  NaN  \n",
       "4  NaN  NaN  \n",
       "5  NaN  NaN  \n",
       "6  NaN  NaN  \n",
       "7  NaN  NaN  \n",
       "8  NaN  NaN  \n",
       "9  NaN  NaN  "
      ]
     },
     "execution_count": 21,
     "metadata": {},
     "output_type": "execute_result"
    }
   ],
   "source": [
    "calls[calls['Lat'].isnull()].head(10)"
   ]
  },
  {
   "cell_type": "markdown",
   "metadata": {},
   "source": [
    "Are there any patterns to the missing data?"
   ]
  },
  {
   "cell_type": "markdown",
   "metadata": {},
   "source": [
    "<br/><br/><br/>\n",
    "\n",
    "\n",
    "---\n",
    "## Loading the `stops.json` Data"
   ]
  },
  {
   "cell_type": "markdown",
   "metadata": {},
   "source": [
    "Python has relatively good support for JSON data since it closely matches the internal python object model.  In the following cell we import the entire JSON datafile into a python dictionary."
   ]
  },
  {
   "cell_type": "code",
   "execution_count": 22,
   "metadata": {
    "ExecuteTime": {
     "end_time": "2018-02-02T15:15:19.441300Z",
     "start_time": "2018-02-02T15:15:19.358900Z"
    }
   },
   "outputs": [],
   "source": [
    "import json\n",
    "\n",
    "with open(\"data/stops.json\", \"rb\") as f:\n",
    "    stops_json = json.load(f)"
   ]
  },
  {
   "cell_type": "markdown",
   "metadata": {},
   "source": [
    "The `stops_json` variable is now a dictionary encoding the data in the file:"
   ]
  },
  {
   "cell_type": "code",
   "execution_count": 23,
   "metadata": {
    "ExecuteTime": {
     "end_time": "2018-02-02T15:15:19.447238Z",
     "start_time": "2018-02-02T15:15:19.443595Z"
    }
   },
   "outputs": [
    {
     "data": {
      "text/plain": [
       "dict"
      ]
     },
     "execution_count": 23,
     "metadata": {},
     "output_type": "execute_result"
    }
   ],
   "source": [
    "type(stops_json)"
   ]
  },
  {
   "cell_type": "markdown",
   "metadata": {},
   "source": [
    "---\n",
    "<br/><br/><br/>\n",
    "\n",
    "### We can now examine what keys are in the top level json object\n",
    "\n",
    "We can list the keys to determine what data is stored in the object."
   ]
  },
  {
   "cell_type": "code",
   "execution_count": 24,
   "metadata": {
    "ExecuteTime": {
     "end_time": "2018-02-02T15:15:19.680999Z",
     "start_time": "2018-02-02T15:15:19.675696Z"
    }
   },
   "outputs": [
    {
     "data": {
      "text/plain": [
       "dict_keys(['code', 'error', 'message'])"
      ]
     },
     "execution_count": 24,
     "metadata": {},
     "output_type": "execute_result"
    }
   ],
   "source": [
    "stops_json.keys()"
   ]
  },
  {
   "cell_type": "markdown",
   "metadata": {},
   "source": [
    "#### Observation\n",
    "\n",
    "The JSON dictionary contains a `meta` key which likely refers to meta data (data about the data).  Meta data often maintained with the data and can be a good source of additional information."
   ]
  },
  {
   "cell_type": "markdown",
   "metadata": {},
   "source": [
    "---\n",
    "<br/><br/><br/>\n",
    "\n",
    "## Digging into Meta Data\n",
    "\n",
    "We can investigate the meta data further by examining the keys associated with the metadata."
   ]
  },
  {
   "cell_type": "code",
   "execution_count": 25,
   "metadata": {
    "ExecuteTime": {
     "end_time": "2018-02-02T15:15:19.687295Z",
     "start_time": "2018-02-02T15:15:19.682902Z"
    }
   },
   "outputs": [
    {
     "ename": "KeyError",
     "evalue": "'meta'",
     "output_type": "error",
     "traceback": [
      "\u001b[0;31m---------------------------------------------------------------------------\u001b[0m",
      "\u001b[0;31mKeyError\u001b[0m                                  Traceback (most recent call last)",
      "\u001b[0;32m<ipython-input-25-7a9435f81e09>\u001b[0m in \u001b[0;36m<module>\u001b[0;34m\u001b[0m\n\u001b[0;32m----> 1\u001b[0;31m \u001b[0mstops_json\u001b[0m\u001b[0;34m[\u001b[0m\u001b[0;34m'meta'\u001b[0m\u001b[0;34m]\u001b[0m\u001b[0;34m.\u001b[0m\u001b[0mkeys\u001b[0m\u001b[0;34m(\u001b[0m\u001b[0;34m)\u001b[0m\u001b[0;34m\u001b[0m\u001b[0;34m\u001b[0m\u001b[0m\n\u001b[0m",
      "\u001b[0;31mKeyError\u001b[0m: 'meta'"
     ]
    }
   ],
   "source": [
    "stops_json['meta'].keys()"
   ]
  },
  {
   "cell_type": "markdown",
   "metadata": {},
   "source": [
    "The `meta` key contains another dictionary called `view`.  This likely refers to meta-data about a particular \"view\" of some underlying database.  We will learn more about views as we study SQL later in the class.    "
   ]
  },
  {
   "cell_type": "code",
   "execution_count": 26,
   "metadata": {
    "ExecuteTime": {
     "end_time": "2018-02-02T15:15:19.693946Z",
     "start_time": "2018-02-02T15:15:19.690139Z"
    }
   },
   "outputs": [
    {
     "ename": "KeyError",
     "evalue": "'meta'",
     "output_type": "error",
     "traceback": [
      "\u001b[0;31m---------------------------------------------------------------------------\u001b[0m",
      "\u001b[0;31mKeyError\u001b[0m                                  Traceback (most recent call last)",
      "\u001b[0;32m<ipython-input-26-ef417096bfbc>\u001b[0m in \u001b[0;36m<module>\u001b[0;34m\u001b[0m\n\u001b[0;32m----> 1\u001b[0;31m \u001b[0mstops_json\u001b[0m\u001b[0;34m[\u001b[0m\u001b[0;34m'meta'\u001b[0m\u001b[0;34m]\u001b[0m\u001b[0;34m[\u001b[0m\u001b[0;34m'view'\u001b[0m\u001b[0;34m]\u001b[0m\u001b[0;34m.\u001b[0m\u001b[0mkeys\u001b[0m\u001b[0;34m(\u001b[0m\u001b[0;34m)\u001b[0m\u001b[0;34m\u001b[0m\u001b[0;34m\u001b[0m\u001b[0m\n\u001b[0m",
      "\u001b[0;31mKeyError\u001b[0m: 'meta'"
     ]
    }
   ],
   "source": [
    "stops_json['meta']['view'].keys()"
   ]
  },
  {
   "cell_type": "markdown",
   "metadata": {},
   "source": [
    "Notice that this a nested/recursive data structure.  As we dig deeper we reveal more and more keys and the corresponding data:\n",
    "\n",
    "```\n",
    "meta\n",
    "|-> data\n",
    "    | ... (haven't explored yet)\n",
    "|-> view\n",
    "    | -> id\n",
    "    | -> name\n",
    "    | -> attribution \n",
    "    ...\n",
    "```"
   ]
  },
  {
   "cell_type": "markdown",
   "metadata": {},
   "source": [
    "There is a key called description in the view sub dictionary.  This likely contains a description of the data:"
   ]
  },
  {
   "cell_type": "code",
   "execution_count": null,
   "metadata": {
    "ExecuteTime": {
     "end_time": "2018-02-02T15:15:19.699773Z",
     "start_time": "2018-02-02T15:15:19.695818Z"
    }
   },
   "outputs": [],
   "source": [
    "print(stops_json['meta']['view']['description'])"
   ]
  },
  {
   "cell_type": "markdown",
   "metadata": {},
   "source": [
    "---\n",
    "<br/><br/><br/>\n",
    "\n",
    "### Columns Meta data\n",
    "\n",
    "Another potentially useful key in the meta data dictionary is the `columns`.  This returns a list:"
   ]
  },
  {
   "cell_type": "code",
   "execution_count": null,
   "metadata": {
    "ExecuteTime": {
     "end_time": "2018-02-02T15:15:19.706171Z",
     "start_time": "2018-02-02T15:15:19.701580Z"
    }
   },
   "outputs": [],
   "source": [
    "type(stops_json['meta']['view']['columns'])"
   ]
  },
  {
   "cell_type": "markdown",
   "metadata": {},
   "source": [
    "We can brows the list using python:"
   ]
  },
  {
   "cell_type": "code",
   "execution_count": null,
   "metadata": {
    "ExecuteTime": {
     "end_time": "2018-02-02T15:15:19.714760Z",
     "start_time": "2018-02-02T15:15:19.708047Z"
    }
   },
   "outputs": [],
   "source": [
    "for c in stops_json['meta']['view']['columns']:\n",
    "    desc = \"\"\n",
    "    if \"description\" in c:\n",
    "        desc = c[\"description\"]\n",
    "    print(c[\"name\"], \":\", \"\\n\\t\", \"\\n\\t\".join(desc.split(\"\\n\")))"
   ]
  },
  {
   "cell_type": "markdown",
   "metadata": {},
   "source": [
    "\n",
    "### Observations?\n",
    "\n",
    "1. The above meta data tells us a lot about the columns in the data including both column names and even descriptions.  This information will be useful in loading and working with the data.\n",
    "1. JSON makes it easier (than CSV) to create \"self-documented data\". \n",
    "1. Self documenting data can be helpful since it maintains it's own description and these descriptions are more likely to be updated as data changes. "
   ]
  },
  {
   "cell_type": "markdown",
   "metadata": {},
   "source": [
    "\n",
    "### Examining the Data Field\n",
    "\n",
    "We can look at a few entires in the data field\n"
   ]
  },
  {
   "cell_type": "code",
   "execution_count": null,
   "metadata": {
    "ExecuteTime": {
     "end_time": "2018-02-02T15:15:19.722451Z",
     "start_time": "2018-02-02T15:15:19.717198Z"
    }
   },
   "outputs": [],
   "source": [
    "for i in range(3):\n",
    "    print(i, \"\\t\", stops_json['data'][i])"
   ]
  },
  {
   "cell_type": "markdown",
   "metadata": {},
   "source": [
    "## Building a Dataframe from JSON"
   ]
  },
  {
   "cell_type": "markdown",
   "metadata": {},
   "source": [
    "In the following block of code we:\n",
    "1. Translate the JSON records into a dataframe\n",
    "1. Remove columns that have no metadata description.  This would be a bad idea in general but here we remove these columns since the above analysis suggests that they are unlikely to contain useful information.\n",
    "1. Examine the top of the table"
   ]
  },
  {
   "cell_type": "code",
   "execution_count": null,
   "metadata": {
    "ExecuteTime": {
     "end_time": "2018-02-02T15:15:19.793306Z",
     "start_time": "2018-02-02T15:15:19.725044Z"
    }
   },
   "outputs": [],
   "source": [
    "# Load the data from JSON and assign column titles\n",
    "stops = pd.DataFrame(\n",
    "    stops_json['data'],\n",
    "    columns=[c['name'] for c in stops_json['meta']['view']['columns']])\n",
    "\n",
    "stops.head()"
   ]
  },
  {
   "cell_type": "code",
   "execution_count": null,
   "metadata": {},
   "outputs": [],
   "source": [
    "stops.columns"
   ]
  },
  {
   "cell_type": "markdown",
   "metadata": {},
   "source": [
    "Too many columns.  Let's ask pandas to show us more.  Be careful, showing too much could break your notebook."
   ]
  },
  {
   "cell_type": "code",
   "execution_count": null,
   "metadata": {},
   "outputs": [],
   "source": [
    "pd.set_option('display.max_columns', 100) \n",
    "pd.set_option('display.max_rows', 100) "
   ]
  },
  {
   "cell_type": "code",
   "execution_count": null,
   "metadata": {},
   "outputs": [],
   "source": [
    "stops.head(10)"
   ]
  },
  {
   "cell_type": "markdown",
   "metadata": {},
   "source": [
    "## Preliminary Observations\n",
    "\n",
    "What do we observe so far?"
   ]
  },
  {
   "cell_type": "markdown",
   "metadata": {},
   "source": [
    "We observe:\n",
    "1. The `Incident Number` appears to have the year encoded in it.  \n",
    "1. The `Call Date/Time` Field looks to be formatted in YYYY-MM-DDTHH:MM:SS.  I am guessing T means \"Time\".\n",
    "1. `Incident Type` has some weird coding.  This is define in the column meta data: \n",
    "    *This is the occurred incident type created in the CAD program.  A code signifies a traffic stop (T), suspicious vehicle stop (1196), pedestrian stop (1194) and bicycle stop (1194B).*\n",
    "1. Lots of missing data.  Why?\n",
    "    \n",
    "Recall the description:\n",
    "\n",
    "### Stop Data\n",
    "<img src=\"stops_desc.png\" width=800px />\n",
    "\n"
   ]
  },
  {
   "cell_type": "markdown",
   "metadata": {},
   "source": [
    "--- \n",
    "\n",
    "<br/><br/><br/>\n",
    "\n",
    "# EDA \n",
    "\n",
    "Now that we have loaded our various data files.  Let's try to understand a bit more about the data by examining properties of individual fields."
   ]
  },
  {
   "cell_type": "code",
   "execution_count": null,
   "metadata": {
    "ExecuteTime": {
     "end_time": "2018-02-02T15:15:19.818072Z",
     "start_time": "2018-02-02T15:15:19.795893Z"
    }
   },
   "outputs": [],
   "source": [
    "calls.head()"
   ]
  },
  {
   "cell_type": "markdown",
   "metadata": {},
   "source": [
    "---\n",
    "<br/><br/><br/>\n",
    "\n",
    "### Are Case Numbers unique?\n",
    "\n",
    "Case numbers are probably used internally to track individual cases and my reference other data we don't have access to.  However, it is possible that multiple calls could be associated with the same case.  Let's see if the case numbers are all unique."
   ]
  },
  {
   "cell_type": "code",
   "execution_count": null,
   "metadata": {
    "ExecuteTime": {
     "end_time": "2018-02-02T15:15:19.849003Z",
     "start_time": "2018-02-02T15:15:19.845047Z"
    }
   },
   "outputs": [],
   "source": [
    "print(\"There are\", calls['CASENO'].unique().shape[0], \"unique case numbers.\")\n",
    "print(\"There are\", calls.shape[0], \"calls in the table.\")"
   ]
  },
  {
   "cell_type": "markdown",
   "metadata": {},
   "source": [
    "Are case numbers assigned consecutively.  "
   ]
  },
  {
   "cell_type": "code",
   "execution_count": null,
   "metadata": {
    "ExecuteTime": {
     "end_time": "2018-02-02T15:15:20.177759Z",
     "start_time": "2018-02-02T15:15:19.851076Z"
    }
   },
   "outputs": [],
   "source": [
    "calls['CASENO'].sort_values().reset_index(drop=True).iplot(\n",
    "    yTitle=\"Case Number\", xTitle=\"Location in File\")"
   ]
  },
  {
   "cell_type": "markdown",
   "metadata": {},
   "source": [
    "I like to use interactive plotting tools so I can hover the mouse over the plot and read the values.  The cufflinks library adds plotly support to Pandas.  "
   ]
  },
  {
   "cell_type": "markdown",
   "metadata": {},
   "source": [
    "### What might we be observing?"
   ]
  },
  {
   "cell_type": "markdown",
   "metadata": {},
   "source": [
    "One possible explanation is that case numbers were assigned consecutively and then sampled uniformly at different rates for two different periods.  We will be able to understand this better by looking at the dates on the cases."
   ]
  },
  {
   "cell_type": "markdown",
   "metadata": {},
   "source": [
    "---\n",
    "<br/><br/><br/>\n",
    "\n",
    "## Examining the Date\n",
    "\n",
    "Given the weird behavior with the case numbers let's dig into the date in which events were recorded.  Notice in this data we have several pieces of date/time information (this is not uncommon):\n",
    "1. **`EVENTDT`**: This contains the date the event took place.  While it has time information the time appears to be `00:00:00`.  \n",
    "1. **`EVENTTM`**: This contains the time at which the event took place.\n",
    "1. **`InDbDate`**: This appears to be the date at which the data was entered in the database.  "
   ]
  },
  {
   "cell_type": "code",
   "execution_count": null,
   "metadata": {
    "ExecuteTime": {
     "end_time": "2018-02-02T15:15:23.517598Z",
     "start_time": "2018-02-02T15:15:23.497989Z"
    }
   },
   "outputs": [],
   "source": [
    "calls.head(3)"
   ]
  },
  {
   "cell_type": "markdown",
   "metadata": {},
   "source": [
    "When Pandas loads more complex fields like dates it will often load them as strings:"
   ]
  },
  {
   "cell_type": "code",
   "execution_count": null,
   "metadata": {
    "ExecuteTime": {
     "end_time": "2018-02-02T15:15:23.524783Z",
     "start_time": "2018-02-02T15:15:23.519725Z"
    }
   },
   "outputs": [],
   "source": [
    "calls[\"EVENTDT\"][0]"
   ]
  },
  {
   "cell_type": "markdown",
   "metadata": {},
   "source": [
    "We will want to convert these to dates.  Pandas has a fairly sophisticated function `pd.to_datetime` which is capable of guessing reasonable conversions of dates to date objects. "
   ]
  },
  {
   "cell_type": "code",
   "execution_count": null,
   "metadata": {
    "ExecuteTime": {
     "end_time": "2018-02-02T15:15:24.584372Z",
     "start_time": "2018-02-02T15:15:23.527027Z"
    }
   },
   "outputs": [],
   "source": [
    "dates = pd.to_datetime(calls[\"EVENTDT\"])\n",
    "dates[0]"
   ]
  },
  {
   "cell_type": "markdown",
   "metadata": {},
   "source": [
    "We can verify that the translations worked by looking at a few dates:"
   ]
  },
  {
   "cell_type": "code",
   "execution_count": null,
   "metadata": {
    "ExecuteTime": {
     "end_time": "2018-02-02T15:15:24.595399Z",
     "start_time": "2018-02-02T15:15:24.586550Z"
    }
   },
   "outputs": [],
   "source": [
    "pd.DataFrame(dict(transformed=dates, original=calls[\"EVENTDT\"])).head()"
   ]
  },
  {
   "cell_type": "markdown",
   "metadata": {},
   "source": [
    "We can also extract the time field:"
   ]
  },
  {
   "cell_type": "code",
   "execution_count": null,
   "metadata": {
    "ExecuteTime": {
     "end_time": "2018-02-02T15:15:24.831230Z",
     "start_time": "2018-02-02T15:15:24.597478Z"
    }
   },
   "outputs": [],
   "source": [
    "times = pd.to_datetime(calls[\"EVENTTM\"]).dt.time\n",
    "times.head()"
   ]
  },
  {
   "cell_type": "markdown",
   "metadata": {},
   "source": [
    "To combine the correct date and correct time field we use the built-in python datetime combine function."
   ]
  },
  {
   "cell_type": "code",
   "execution_count": null,
   "metadata": {
    "ExecuteTime": {
     "end_time": "2018-02-02T15:15:25.269586Z",
     "start_time": "2018-02-02T15:15:24.833379Z"
    }
   },
   "outputs": [],
   "source": [
    "from datetime import datetime\n",
    "timestamps = pd.concat([dates, times], axis=1).apply(\n",
    "    lambda r: datetime.combine(r['EVENTDT'], r['EVENTTM']), axis=1)\n",
    "timestamps.head()"
   ]
  },
  {
   "cell_type": "markdown",
   "metadata": {},
   "source": [
    "We now updated calls to contain this additional informations:"
   ]
  },
  {
   "cell_type": "code",
   "execution_count": null,
   "metadata": {
    "ExecuteTime": {
     "end_time": "2018-02-02T15:15:25.290941Z",
     "start_time": "2018-02-02T15:15:25.271722Z"
    }
   },
   "outputs": [],
   "source": [
    "calls['timestamp'] = timestamps\n",
    "calls.head()"
   ]
  },
  {
   "cell_type": "markdown",
   "metadata": {},
   "source": [
    "### What time range does the data represent"
   ]
  },
  {
   "cell_type": "code",
   "execution_count": null,
   "metadata": {
    "ExecuteTime": {
     "end_time": "2018-02-02T15:15:25.298774Z",
     "start_time": "2018-02-02T15:15:25.293128Z"
    }
   },
   "outputs": [],
   "source": [
    "calls['timestamp'].min()"
   ]
  },
  {
   "cell_type": "code",
   "execution_count": null,
   "metadata": {
    "ExecuteTime": {
     "end_time": "2018-02-02T15:15:25.305149Z",
     "start_time": "2018-02-02T15:15:25.300806Z"
    }
   },
   "outputs": [],
   "source": [
    "calls['timestamp'].max()"
   ]
  },
  {
   "cell_type": "markdown",
   "metadata": {},
   "source": [
    "---\n",
    "<br/><br/><br/>\n",
    "\n",
    "\n",
    "### Are there any other interesting temporal patterns\n",
    "\n",
    "Do more calls occur on a particular day of the week?"
   ]
  },
  {
   "cell_type": "code",
   "execution_count": null,
   "metadata": {
    "ExecuteTime": {
     "end_time": "2018-02-02T15:15:28.261956Z",
     "start_time": "2018-02-02T15:15:27.075169Z"
    }
   },
   "outputs": [],
   "source": [
    "dow = [\"Sunday\", \"Monday\", \"Tuesday\", \"Wednesday\", \"Thursday\", \"Friday\", \"Saturday\"]\n",
    "calls.groupby('Day')['CASENO'].count()[dow].iplot(kind='bar', yTitle=\"Count\")"
   ]
  },
  {
   "cell_type": "markdown",
   "metadata": {},
   "source": [
    "### How about temporal patterns within a day?"
   ]
  },
  {
   "cell_type": "code",
   "execution_count": null,
   "metadata": {
    "ExecuteTime": {
     "end_time": "2018-02-02T15:15:28.279664Z",
     "start_time": "2018-02-02T15:15:28.263705Z"
    }
   },
   "outputs": [],
   "source": [
    "calls['hour_of_day'] = (\n",
    "    calls['timestamp'].dt.hour * 60 + calls['timestamp'].dt.minute ) / 60."
   ]
  },
  {
   "cell_type": "code",
   "execution_count": null,
   "metadata": {
    "ExecuteTime": {
     "end_time": "2018-02-02T15:15:28.426935Z",
     "start_time": "2018-02-02T15:15:28.281805Z"
    }
   },
   "outputs": [],
   "source": [
    "py.iplot(ff.create_distplot([calls['hour_of_day']],group_labels=[\"Hour\"],bin_size=1, show_rug=False))"
   ]
  },
  {
   "cell_type": "markdown",
   "metadata": {},
   "source": [
    "### Observations?"
   ]
  },
  {
   "cell_type": "markdown",
   "metadata": {},
   "source": [
    "In the above plot we see the standard pattern of limited activity early in the morning around here 6:00AM."
   ]
  },
  {
   "cell_type": "markdown",
   "metadata": {},
   "source": [
    "### Stratified Analysis\n",
    "\n",
    "To better understand the time of day a report occurs we could stratify the analysis by the day of the week.  To do this we will use box plots.  \n"
   ]
  },
  {
   "cell_type": "code",
   "execution_count": null,
   "metadata": {},
   "outputs": [],
   "source": [
    "px.violin(calls.sort_values(\"CVDOW\"), y=\"hour_of_day\", x=\"Day\", box=True, points=\"all\", hover_name=\"CVLEGEND\")"
   ]
  },
  {
   "cell_type": "markdown",
   "metadata": {},
   "source": [
    "#### Observations?"
   ]
  },
  {
   "cell_type": "markdown",
   "metadata": {},
   "source": [
    "There are no very clear patterns here.  However it does appear that weekends have more calls later into the night."
   ]
  },
  {
   "cell_type": "markdown",
   "metadata": {},
   "source": [
    "---\n",
    "<br/><br/><br/>\n",
    "\n",
    "### Examining the Event\n",
    "\n",
    "We also have data about the different kinds of crimes being reported"
   ]
  },
  {
   "cell_type": "code",
   "execution_count": null,
   "metadata": {
    "ExecuteTime": {
     "end_time": "2018-02-02T15:15:29.036248Z",
     "start_time": "2018-02-02T15:15:29.018237Z"
    }
   },
   "outputs": [],
   "source": [
    "calls.head()"
   ]
  },
  {
   "cell_type": "markdown",
   "metadata": {},
   "source": [
    "### The Offense Field\n",
    "\n",
    "The Offense field appears to contain the specific crime being reported.  As nominal data we might want to see a summary constructed by computing counts of each offense type:"
   ]
  },
  {
   "cell_type": "code",
   "execution_count": null,
   "metadata": {
    "ExecuteTime": {
     "end_time": "2018-02-02T15:15:30.442093Z",
     "start_time": "2018-02-02T15:15:29.037909Z"
    }
   },
   "outputs": [],
   "source": [
    "calls['OFFENSE'].value_counts().iplot(kind=\"bar\")"
   ]
  },
  {
   "cell_type": "markdown",
   "metadata": {},
   "source": [
    "#### Observations?"
   ]
  },
  {
   "cell_type": "markdown",
   "metadata": {},
   "source": [
    "Car burglary and misdemeanor theft seem to be the most common crimes with many other types of crimes occurring rarely."
   ]
  },
  {
   "cell_type": "markdown",
   "metadata": {},
   "source": [
    "---\n",
    "<br/><br/><br/>\n",
    "\n",
    "### CVLEGEND\n",
    "\n",
    "The CVLEGEND field provides the broad category of crime and is a good mechanism to group potentially similar crimes. "
   ]
  },
  {
   "cell_type": "code",
   "execution_count": null,
   "metadata": {
    "ExecuteTime": {
     "end_time": "2018-02-02T15:15:32.695890Z",
     "start_time": "2018-02-02T15:15:30.443888Z"
    }
   },
   "outputs": [],
   "source": [
    "calls['CVLEGEND'].value_counts().iplot(kind=\"bar\")"
   ]
  },
  {
   "cell_type": "markdown",
   "metadata": {},
   "source": [
    "Notice that when we group by the crime time we see that **larceny** emerges as one of the top crimes.  Larceny is essentially stealing -- taking someone else stuff without force."
   ]
  },
  {
   "cell_type": "markdown",
   "metadata": {},
   "source": [
    "### Stratified Analysis of Time of Day by CVLEGEND"
   ]
  },
  {
   "cell_type": "markdown",
   "metadata": {},
   "source": [
    "View the crime time periods broken down by crime type:"
   ]
  },
  {
   "cell_type": "code",
   "execution_count": null,
   "metadata": {
    "ExecuteTime": {
     "end_time": "2018-02-02T15:15:32.753558Z",
     "start_time": "2018-02-02T15:15:32.698116Z"
    }
   },
   "outputs": [],
   "source": [
    "boxes = [(len(df), go.Violin(y=df[\"hour_of_day\"], name=i)) for (i, df) in calls.groupby(\"CVLEGEND\")]\n",
    "py.iplot([r[1] for r in sorted(boxes, key=lambda x:x[0], reverse=True)])"
   ]
  },
  {
   "cell_type": "code",
   "execution_count": null,
   "metadata": {
    "ExecuteTime": {
     "end_time": "2018-02-02T15:15:32.849700Z",
     "start_time": "2018-02-02T15:15:32.756488Z"
    }
   },
   "outputs": [],
   "source": [
    "py.iplot(ff.create_distplot([\n",
    "    calls[calls['CVLEGEND'] == \"NOISE VIOLATION\"]['hour_of_day'],\n",
    "    calls[calls['CVLEGEND'] == \"DRUG VIOLATION\"]['hour_of_day'],\n",
    "    calls[calls['CVLEGEND'] == \"LIQUOR LAW VIOLATION\"]['hour_of_day'],\n",
    "    calls[calls['CVLEGEND'] == \"FRAUD\"]['hour_of_day']\n",
    "],\n",
    "    group_labels=[\"Noise Violation\", \"Drug Violation\", \"Liquor Violation\", \"Fraud\"], \n",
    "    ))\n"
   ]
  },
  {
   "cell_type": "markdown",
   "metadata": {},
   "source": [
    "## Examining Location information\n",
    "\n",
    "Let's examine the geographic data (latitude and longitude).  Recall that we had some missing values.  Let's look at the behavior of these missing values according to crime type."
   ]
  },
  {
   "cell_type": "code",
   "execution_count": null,
   "metadata": {},
   "outputs": [],
   "source": [
    "calls[\"missing_lat_lon\"] = calls[['Lat', 'Lon']].isnull().any(axis=1)\n",
    "calls.groupby(\"CVLEGEND\")['missing_lat_lon'].mean().sort_values().iplot(kind=\"barh\")"
   ]
  },
  {
   "cell_type": "markdown",
   "metadata": {},
   "source": [
    "### Observations?"
   ]
  },
  {
   "cell_type": "markdown",
   "metadata": {},
   "source": [
    "There is a clear bias towards drug violations that is not present in the original data.  Therefore we should be careful when dropping missing values!"
   ]
  },
  {
   "cell_type": "markdown",
   "metadata": {},
   "source": [
    "---\n",
    "<br/><br/><br/> \n",
    "\n",
    "### Examine data geographically\n"
   ]
  },
  {
   "cell_type": "code",
   "execution_count": null,
   "metadata": {
    "ExecuteTime": {
     "end_time": "2018-02-02T15:15:37.178532Z",
     "start_time": "2018-02-02T15:15:37.035919Z"
    }
   },
   "outputs": [],
   "source": [
    "import folium\n",
    "import folium.plugins # The Folium Javascript Map Library\n",
    "\n",
    "SF_COORDINATES = (37.87, -122.28)\n",
    "sf_map = folium.Map(location=SF_COORDINATES, zoom_start=13)\n",
    "locs = calls[['Lat', 'Lon']].astype('float').dropna().to_numpy()\n",
    "heatmap = folium.plugins.HeatMap(locs.tolist(), radius = 10)\n",
    "sf_map.add_child(heatmap)"
   ]
  },
  {
   "cell_type": "markdown",
   "metadata": {},
   "source": [
    "### Questions\n",
    "\n",
    "1. Why are all the calls located on the street and at often at intersections?\n"
   ]
  },
  {
   "cell_type": "code",
   "execution_count": null,
   "metadata": {
    "ExecuteTime": {
     "end_time": "2018-02-02T15:15:54.826669Z",
     "start_time": "2018-02-02T15:15:37.180513Z"
    }
   },
   "outputs": [],
   "source": [
    "cluster = folium.plugins.MarkerCluster()\n",
    "for _, r in calls[['Lat', 'Lon', 'CVLEGEND']].tail(1000).dropna().iterrows():\n",
    "    cluster.add_child(\n",
    "        folium.Marker([float(r[\"Lat\"]), float(r[\"Lon\"])], popup=r['CVLEGEND']))\n",
    "    \n",
    "sf_map = folium.Map(location=SF_COORDINATES, zoom_start=13)\n",
    "sf_map.add_child(cluster)\n",
    "sf_map"
   ]
  }
 ],
 "metadata": {
  "kernelspec": {
   "display_name": "Python 3",
   "language": "python",
   "name": "python3"
  },
  "language_info": {
   "codemirror_mode": {
    "name": "ipython",
    "version": 3
   },
   "file_extension": ".py",
   "mimetype": "text/x-python",
   "name": "python",
   "nbconvert_exporter": "python",
   "pygments_lexer": "ipython3",
   "version": "3.7.4"
  }
 },
 "nbformat": 4,
 "nbformat_minor": 4
}
